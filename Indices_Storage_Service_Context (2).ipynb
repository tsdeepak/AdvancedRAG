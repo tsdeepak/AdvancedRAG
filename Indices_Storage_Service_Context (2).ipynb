{
  "cells": [
    {
      "cell_type": "markdown",
      "metadata": {
        "id": "JgpETdM4kUQE"
      },
      "source": [
        "\n",
        "   \n",
        "1.   Storage Context\n",
        "2.   Service Context\n",
        "3.   VectorStoreIndex\n",
        "4.   List Index\n",
        "5.   Keyword Table Index"
      ]
    },
    {
      "cell_type": "code",
      "execution_count": 1,
      "metadata": {
        "colab": {
          "base_uri": "https://localhost:8080/"
        },
        "id": "tCSHH5APclm6",
        "outputId": "e970997f-0ab7-4cab-f92b-7b4298dd1d20"
      },
      "outputs": [
        {
          "name": "stdout",
          "output_type": "stream",
          "text": [
            "Requirement already satisfied: llama-index in .\\llamaindex\\lib\\site-packages (0.9.31)\n",
            "Requirement already satisfied: tiktoken in .\\llamaindex\\lib\\site-packages (0.5.2)\n",
            "Requirement already satisfied: MistralAI in .\\llamaindex\\lib\\site-packages (0.0.11)\n",
            "Requirement already satisfied: tenacity<9.0.0,>=8.2.0 in .\\llamaindex\\lib\\site-packages (from llama-index) (8.2.3)\n",
            "Requirement already satisfied: networkx>=3.0 in .\\llamaindex\\lib\\site-packages (from llama-index) (3.2.1)\n",
            "Requirement already satisfied: fsspec>=2023.5.0 in .\\llamaindex\\lib\\site-packages (from llama-index) (2023.12.2)\n",
            "Requirement already satisfied: typing-extensions>=4.5.0 in .\\llamaindex\\lib\\site-packages (from llama-index) (4.9.0)\n",
            "Requirement already satisfied: nest-asyncio<2.0.0,>=1.5.8 in .\\llamaindex\\lib\\site-packages (from llama-index) (1.5.9)\n",
            "Requirement already satisfied: nltk<4.0.0,>=3.8.1 in .\\llamaindex\\lib\\site-packages (from llama-index) (3.8.1)\n",
            "Requirement already satisfied: httpx in .\\llamaindex\\lib\\site-packages (from llama-index) (0.27.0)\n",
            "Requirement already satisfied: pandas in .\\llamaindex\\lib\\site-packages (from llama-index) (2.1.4)\n",
            "Requirement already satisfied: SQLAlchemy[asyncio]>=1.4.49 in .\\llamaindex\\lib\\site-packages (from llama-index) (2.0.25)\n",
            "Requirement already satisfied: typing-inspect>=0.8.0 in .\\llamaindex\\lib\\site-packages (from llama-index) (0.9.0)\n",
            "Requirement already satisfied: numpy in .\\llamaindex\\lib\\site-packages (from llama-index) (1.26.3)\n",
            "Requirement already satisfied: openai>=1.1.0 in .\\llamaindex\\lib\\site-packages (from llama-index) (1.14.1)\n",
            "Requirement already satisfied: requests>=2.31.0 in .\\llamaindex\\lib\\site-packages (from llama-index) (2.31.0)\n",
            "Requirement already satisfied: beautifulsoup4<5.0.0,>=4.12.2 in .\\llamaindex\\lib\\site-packages (from llama-index) (4.12.2)\n",
            "Requirement already satisfied: dataclasses-json in .\\llamaindex\\lib\\site-packages (from llama-index) (0.5.14)\n",
            "Requirement already satisfied: aiohttp<4.0.0,>=3.8.6 in .\\llamaindex\\lib\\site-packages (from llama-index) (3.9.1)\n",
            "Requirement already satisfied: deprecated>=1.2.9.3 in .\\llamaindex\\lib\\site-packages (from llama-index) (1.2.14)\n",
            "Requirement already satisfied: regex>=2022.1.18 in .\\llamaindex\\lib\\site-packages (from tiktoken) (2023.12.25)\n",
            "Collecting httpx\n",
            "  Using cached httpx-0.25.2-py3-none-any.whl (74 kB)\n",
            "Requirement already satisfied: pydantic<3.0.0,>=2.5.2 in .\\llamaindex\\lib\\site-packages (from MistralAI) (2.5.3)\n",
            "Requirement already satisfied: orjson<4.0.0,>=3.9.10 in .\\llamaindex\\lib\\site-packages (from MistralAI) (3.9.12)\n",
            "Requirement already satisfied: multidict<7.0,>=4.5 in .\\llamaindex\\lib\\site-packages (from aiohttp<4.0.0,>=3.8.6->llama-index) (6.0.4)\n",
            "Requirement already satisfied: yarl<2.0,>=1.0 in .\\llamaindex\\lib\\site-packages (from aiohttp<4.0.0,>=3.8.6->llama-index) (1.9.4)\n",
            "Requirement already satisfied: async-timeout<5.0,>=4.0 in .\\llamaindex\\lib\\site-packages (from aiohttp<4.0.0,>=3.8.6->llama-index) (4.0.3)\n",
            "Requirement already satisfied: attrs>=17.3.0 in .\\llamaindex\\lib\\site-packages (from aiohttp<4.0.0,>=3.8.6->llama-index) (23.2.0)\n",
            "Requirement already satisfied: frozenlist>=1.1.1 in .\\llamaindex\\lib\\site-packages (from aiohttp<4.0.0,>=3.8.6->llama-index) (1.4.1)\n",
            "Requirement already satisfied: aiosignal>=1.1.2 in .\\llamaindex\\lib\\site-packages (from aiohttp<4.0.0,>=3.8.6->llama-index) (1.3.1)\n",
            "Requirement already satisfied: soupsieve>1.2 in .\\llamaindex\\lib\\site-packages (from beautifulsoup4<5.0.0,>=4.12.2->llama-index) (2.5)\n",
            "Requirement already satisfied: wrapt<2,>=1.10 in .\\llamaindex\\lib\\site-packages (from deprecated>=1.2.9.3->llama-index) (1.16.0)\n",
            "Requirement already satisfied: idna in .\\llamaindex\\lib\\site-packages (from httpx->llama-index) (3.6)\n",
            "Requirement already satisfied: anyio in .\\llamaindex\\lib\\site-packages (from httpx->llama-index) (4.2.0)\n",
            "Requirement already satisfied: httpcore==1.* in .\\llamaindex\\lib\\site-packages (from httpx->llama-index) (1.0.2)\n",
            "Requirement already satisfied: certifi in .\\llamaindex\\lib\\site-packages (from httpx->llama-index) (2023.11.17)\n",
            "Requirement already satisfied: sniffio in .\\llamaindex\\lib\\site-packages (from httpx->llama-index) (1.3.0)\n",
            "Requirement already satisfied: h11<0.15,>=0.13 in .\\llamaindex\\lib\\site-packages (from httpcore==1.*->httpx->llama-index) (0.14.0)\n",
            "Requirement already satisfied: click in .\\llamaindex\\lib\\site-packages (from nltk<4.0.0,>=3.8.1->llama-index) (8.1.7)\n",
            "Requirement already satisfied: tqdm in .\\llamaindex\\lib\\site-packages (from nltk<4.0.0,>=3.8.1->llama-index) (4.66.1)\n",
            "Requirement already satisfied: joblib in .\\llamaindex\\lib\\site-packages (from nltk<4.0.0,>=3.8.1->llama-index) (1.3.2)\n",
            "Requirement already satisfied: distro<2,>=1.7.0 in .\\llamaindex\\lib\\site-packages (from openai>=1.1.0->llama-index) (1.9.0)\n",
            "Requirement already satisfied: pydantic-core==2.14.6 in .\\llamaindex\\lib\\site-packages (from pydantic<3.0.0,>=2.5.2->MistralAI) (2.14.6)\n",
            "Requirement already satisfied: annotated-types>=0.4.0 in .\\llamaindex\\lib\\site-packages (from pydantic<3.0.0,>=2.5.2->MistralAI) (0.6.0)\n",
            "Requirement already satisfied: charset-normalizer<4,>=2 in .\\llamaindex\\lib\\site-packages (from requests>=2.31.0->llama-index) (3.3.2)\n",
            "Requirement already satisfied: urllib3<3,>=1.21.1 in .\\llamaindex\\lib\\site-packages (from requests>=2.31.0->llama-index) (1.26.18)\n",
            "Requirement already satisfied: greenlet!=0.4.17 in .\\llamaindex\\lib\\site-packages (from SQLAlchemy[asyncio]>=1.4.49->llama-index) (3.0.3)\n",
            "Requirement already satisfied: mypy-extensions>=0.3.0 in .\\llamaindex\\lib\\site-packages (from typing-inspect>=0.8.0->llama-index) (1.0.0)\n",
            "Requirement already satisfied: marshmallow<4.0.0,>=3.18.0 in .\\llamaindex\\lib\\site-packages (from dataclasses-json->llama-index) (3.20.2)\n",
            "Requirement already satisfied: python-dateutil>=2.8.2 in .\\llamaindex\\lib\\site-packages (from pandas->llama-index) (2.8.2)\n",
            "Requirement already satisfied: pytz>=2020.1 in .\\llamaindex\\lib\\site-packages (from pandas->llama-index) (2023.3.post1)\n",
            "Requirement already satisfied: tzdata>=2022.1 in .\\llamaindex\\lib\\site-packages (from pandas->llama-index) (2023.4)\n",
            "Requirement already satisfied: exceptiongroup>=1.0.2 in .\\llamaindex\\lib\\site-packages (from anyio->httpx->llama-index) (1.2.0)\n",
            "Requirement already satisfied: packaging>=17.0 in .\\llamaindex\\lib\\site-packages (from marshmallow<4.0.0,>=3.18.0->dataclasses-json->llama-index) (23.2)\n",
            "Requirement already satisfied: six>=1.5 in .\\llamaindex\\lib\\site-packages (from python-dateutil>=2.8.2->pandas->llama-index) (1.16.0)\n",
            "Requirement already satisfied: colorama in .\\llamaindex\\lib\\site-packages (from tqdm->nltk<4.0.0,>=3.8.1->llama-index) (0.4.6)\n",
            "Installing collected packages: httpx\n",
            "  Attempting uninstall: httpx\n",
            "    Found existing installation: httpx 0.27.0\n",
            "    Uninstalling httpx-0.27.0:\n",
            "      Successfully uninstalled httpx-0.27.0\n",
            "Successfully installed httpx-0.25.2\n"
          ]
        },
        {
          "name": "stderr",
          "output_type": "stream",
          "text": [
            "ERROR: pip's dependency resolver does not currently take into account all the packages that are installed. This behaviour is the source of the following dependency conflicts.\n",
            "weaviate-client 4.5.4 requires httpx==0.27.0, but you have httpx 0.25.2 which is incompatible.\n",
            "WARNING: You are using pip version 22.0.4; however, version 24.0 is available.\n",
            "You should consider upgrading via the 'C:\\llamaindex\\llamaindex-samples\\llamaindex\\Scripts\\python.exe -m pip install --upgrade pip' command.\n"
          ]
        }
      ],
      "source": [
        "!pip install llama-index==0.9.31 tiktoken MistralAI"
      ]
    },
    {
      "cell_type": "code",
      "execution_count": 2,
      "metadata": {},
      "outputs": [],
      "source": [
        "import os\n",
        "from dotenv import load_dotenv\n",
        "import nest_asyncio\n",
        "import pprint\n",
        "\n",
        "nest_asyncio.apply()\n",
        "\n",
        "load_dotenv(\".env\", override=True)\n",
        "openai_key = os.environ[\"OPENAI_API_KEY\"] \n",
        "\n"
      ]
    },
    {
      "cell_type": "code",
      "execution_count": 3,
      "metadata": {},
      "outputs": [
        {
          "name": "stdout",
          "output_type": "stream",
          "text": [
            "307\n"
          ]
        }
      ],
      "source": [
        "\n",
        "from llama_index import download_loader\n",
        "from llama_index import SimpleDirectoryReader\n",
        "\n",
        "PDFReader = download_loader(\"PDFReader\")\n",
        "\n",
        "loader = PDFReader()\n",
        "documents = SimpleDirectoryReader(input_files=[\"data_pdfs/uber_2021.pdf\"]).load_data()\n",
        "print(len(documents))\n",
        "# print(documents[0].text)"
      ]
    },
    {
      "cell_type": "code",
      "execution_count": 4,
      "metadata": {},
      "outputs": [
        {
          "name": "stdout",
          "output_type": "stream",
          "text": [
            "1277662\n"
          ]
        }
      ],
      "source": [
        "text = ''\n",
        "\n",
        "for document in documents:\n",
        "  text = text + \"\\n\" + document.text\n",
        "\n",
        "print(len(text))"
      ]
    },
    {
      "cell_type": "code",
      "execution_count": 5,
      "metadata": {},
      "outputs": [],
      "source": [
        "from llama_index import VectorStoreIndex\n",
        "from IPython.display import display, HTML\n",
        "\n",
        "# Construct an index by loading documents into a VectorStoreIndex.\n",
        "index = VectorStoreIndex.from_documents(documents)\n",
        "\n",
        "# Construct Query Engine\n",
        "query_engine = index.as_query_engine()\n",
        "\n"
      ]
    },
    {
      "cell_type": "code",
      "execution_count": 6,
      "metadata": {},
      "outputs": [],
      "source": [
        "# Query the engine.\n",
        "response = query_engine.query(\"What is the revenue of uber in 2021?\")"
      ]
    },
    {
      "cell_type": "code",
      "execution_count": 7,
      "metadata": {},
      "outputs": [
        {
          "name": "stdout",
          "output_type": "stream",
          "text": [
            "The revenue of Uber in 2021 was $17,455 million.\n",
            "[NodeWithScore(node=TextNode(id_='14291184-a3c6-44f6-8780-0bfffc74d488', embedding=None, metadata={'page_label': '57', 'file_name': 'uber_2021.pdf', 'file_path': 'data_pdfs\\\\uber_2021.pdf', 'file_type': 'application/pdf', 'file_size': 1880483, 'creation_date': '2024-01-23', 'last_modified_date': '2024-01-23', 'last_accessed_date': '2024-03-19'}, excluded_embed_metadata_keys=['file_name', 'file_type', 'file_size', 'creation_date', 'last_modified_date', 'last_accessed_date'], excluded_llm_metadata_keys=['file_name', 'file_type', 'file_size', 'creation_date', 'last_modified_date', 'last_accessed_date'], relationships={<NodeRelationship.SOURCE: '1'>: RelatedNodeInfo(node_id='cbeecd22-cbe7-45fb-aa62-cc8d8922a9e3', node_type=<ObjectType.DOCUMENT: '4'>, metadata={'page_label': '57', 'file_name': 'uber_2021.pdf', 'file_path': 'data_pdfs\\\\uber_2021.pdf', 'file_type': 'application/pdf', 'file_size': 1880483, 'creation_date': '2024-01-23', 'last_modified_date': '2024-01-23', 'last_accessed_date': '2024-03-19'}, hash='df19eac0d20c3e8f76afb463fad7429555eb65d4ca2d07493f5fb8a408b085f2'), <NodeRelationship.PREVIOUS: '2'>: RelatedNodeInfo(node_id='b294d188-a32b-4abf-94f9-e5c2bc5c467f', node_type=<ObjectType.TEXT: '1'>, metadata={'page_label': '56', 'file_name': 'uber_2021.pdf', 'file_path': 'data_pdfs\\\\uber_2021.pdf', 'file_type': 'application/pdf', 'file_size': 1880483, 'creation_date': '2024-01-23', 'last_modified_date': '2024-01-23', 'last_accessed_date': '2024-03-19'}, hash='012a3b82ecc80b5de359964351489bcb641b3a5190f3783e53478cf8d763fae9'), <NodeRelationship.NEXT: '3'>: RelatedNodeInfo(node_id='08329840-5d78-44fe-ab2d-814541e85f12', node_type=<ObjectType.TEXT: '1'>, metadata={}, hash='756bdb636964d6a9987c401c69110dd72dfc11a68ccc8297c541b401c9497dd8')}, hash='b99b406c1e9fadee1f27b3fd7c86e72d0ca50a555e7471b8d6fce4bd6f578bb9', text='The following table sets forth the components of our consolidated statements of operations for each of the periods presented as a percentage of revenue : Year Ended December 31,\\n2020\\n2021 Revenue\\n100 %100 %Costs and expenses\\nCost of revenue, exclusive of dep\\nreciation and amortization shown separately below46 %54 %Operations and support\\n16 %11 %Sales and marketing\\n32 %27 %Research and development\\n20 %12 %General and administrative\\n24 %13 %Depreciation and amortization\\n5 %5 %Total costs and expenses\\n144 %122 %Loss from operations\\n(44) %(22) %Interest expense\\n(4) %(3) %Other income (expense), net\\n(15) %19 %Loss before income taxes and loss from equity me\\nthod investments(62) %(6) %Provision for (benefit fro\\nm) income taxes(2) %(3) %Loss from equity method invest\\nments— %— %Net loss including non-controlling interests\\n(61) %(3) %Less: net loss attributab\\nle to non-controlling interests, net of tax— %— %Net loss attributable to Uber Technologies, Inc.\\n(61) %(3) % Totals of percentage of \\nrevenues may not foot due to rounding.Comparison of the Years Ended December 31, 2020 and 2021\\nRevenue\\nYear Ended December 31,\\n2020 to 2021 % Change\\n(In millions, except percentages) 2020 2021 Revenue\\n$ 11,139 $ 17,455 57 %2021\\n Compared to 2020Revenue\\n increased $6.3 billion, or 57%, primarily attributable to an increase in Gross Bookings of 56%, or 53% on a constant currency basis. The increase inGross\\n Bookings was primarily driven by an increase in Delivery Gross Bookings of 71%, or 66% on a constant currency basis, due to an increase in food deliveryorders\\n and  higher  basket  sizes  as  a  result  of  stay-at-home  order  demand  related  to  COVID-19,  as  well  as  continued  expansion  across  U.S.  and  internationalmarkets.\\n The increase was also driven by Mobility Gross Bookings growth of 38%, or 36% on a constant currency basis, due to increases in Trip volumes as thebusiness\\n recovers from the impacts of COVID-19. Additionally, we saw an increase in Delivery revenue resulting from an increase in certain Courier paymentsand incentives that ar\\ne recorded in cost of revenue, where we are primarily responsible for delivery services and pay Couriers for services provided.Cost of Revenue, Exclusive of Depreciation and Amortizat\\nionYear Ended December 31,\\n2020 to 2021 %\\nChange\\n(In millions, except percentages) 2020 2021 Cost of revenue, exclusive of dep\\nreciation and amortization$ 5,154 $ 9,351 81 %Percentage of revenue\\n46 %54 %2021 Compared to 2020\\nCost\\n of revenue, exclusive of depreciation and amortization, increased $4.2 billion, or 81%, mainly due to a $2.1 billion increase in Courier payments andincentives\\n in certain  markets,  a $660 million  increase  in insurance  expense  primarily  due  to an increase  in miles  driven  in our Delivery  business,  and a $873million increase in Freight\\n carrier payments.(1)(1)\\n55', start_char_idx=0, end_char_idx=2862, text_template='{metadata_str}\\n\\n{content}', metadata_template='{key}: {value}', metadata_seperator='\\n'), score=0.867715280532033),\n",
            " NodeWithScore(node=TextNode(id_='8251ca05-da32-4379-bb1e-f953397ede92', embedding=None, metadata={'page_label': '129', 'file_name': 'uber_2021.pdf', 'file_path': 'data_pdfs\\\\uber_2021.pdf', 'file_type': 'application/pdf', 'file_size': 1880483, 'creation_date': '2024-01-23', 'last_modified_date': '2024-01-23', 'last_accessed_date': '2024-03-19'}, excluded_embed_metadata_keys=['file_name', 'file_type', 'file_size', 'creation_date', 'last_modified_date', 'last_accessed_date'], excluded_llm_metadata_keys=['file_name', 'file_type', 'file_size', 'creation_date', 'last_modified_date', 'last_accessed_date'], relationships={<NodeRelationship.SOURCE: '1'>: RelatedNodeInfo(node_id='cffd1df2-3b40-4993-8798-0743ed276db2', node_type=<ObjectType.DOCUMENT: '4'>, metadata={'page_label': '129', 'file_name': 'uber_2021.pdf', 'file_path': 'data_pdfs\\\\uber_2021.pdf', 'file_type': 'application/pdf', 'file_size': 1880483, 'creation_date': '2024-01-23', 'last_modified_date': '2024-01-23', 'last_accessed_date': '2024-03-19'}, hash='9d41065aa5f8acf8a8b3de10eaa7b6fb7908ecab1b691b3b217740dbde3e0914'), <NodeRelationship.PREVIOUS: '2'>: RelatedNodeInfo(node_id='fc5bef2b-cda6-41ea-a568-787ff9bd7393', node_type=<ObjectType.TEXT: '1'>, metadata={'page_label': '128', 'file_name': 'uber_2021.pdf', 'file_path': 'data_pdfs\\\\uber_2021.pdf', 'file_type': 'application/pdf', 'file_size': 1880483, 'creation_date': '2024-01-23', 'last_modified_date': '2024-01-23', 'last_accessed_date': '2024-03-19'}, hash='34a23be1517645954a0a7cbf689454920d5ef5b1fe89fd5c501951de7e20af96'), <NodeRelationship.NEXT: '3'>: RelatedNodeInfo(node_id='a0ee9ca8-d521-40ff-8993-325d150d372a', node_type=<ObjectType.TEXT: '1'>, metadata={}, hash='78ac114d168fc0dbb1a2c480568f582dfad34cd1bf863ed13b6b132c0c883772')}, hash='2f6658107bc8e3a0d499631a7eb3442c37bbafecb0e810a71efabb5d0d77a354', text=\"Year Ended December 31,2019\\n2020 2021 United States\\n$ 7,968 $ 6,082 $ 9,058 All other countries\\n5,032 5,057 8,397 Total Revenue\\n$ 13,000 $ 11,139 $ 17,455 As of December 31,\\n2020\\n2021 United States\\n$ 2,940 $ 2,991 All other countries\\n252 250 Total long-lived assets, net\\n$ 3,192 $ 3,241 Revenue grouped by offerings is inc\\nluded in Note 2 – Revenue.Note 15 – Commitments and Contingencies\\nContingencies\\nFrom time to time, we are a party to various claims, non-income tax audits and litigation in the normal course of b\\nusiness. As of December 31, 2020 and 2021,we\\n had  recorded  aggregate  liabilities  of  $1.8  billion  and  $2.2  billion,  respectively,  of  which  $1.3  billion  and  $1.3  billion  relate  to  non-income  tax  matters,respectively,\\n in  accrued  and  other  current  liabilities  on  the  consolidated  balance  sheets  for  all  of  our  legal,  regulatory  and  non-income  tax  matters  that  wereprobable and reasonably est\\nimable.We\\n are  currently  party  to  various  legal  and  regulatory  matters  that  have  arisen  in  the  normal  course  of  business  and  include,  among  others,  allegedindependent\\n contractor misclassification claims, Fair Credit Reporting Act (“FCRA”) claims, alleged background check violations, pricing and advertising claims,unfair\\n competition claims, intellectual property claims, employment discrimination and other employment-related claims, Telephone Consumer Protection Act(“TCPA”)\\n claims, Americans with Disabilities Act (“ADA”) claims, data and privacy claims, securities claims, antitrust claims, challenges to regulations, andother\\n matters. We have existing litigation, including class actions, Private Attorney General Act lawsuits, arbitration claims, and governmental administrative andaudit\\n proceedings,  asserting  claims  by  or  on  behalf  of  Drivers  that  Drivers  are  misclassified  as  independent  contractors.  In  connection  with  the  enactment  ofCalifornia\\n State Assembly Bill 5 (“AB5”), we have received and expect to continue to receive - in California and in other jurisdictions - an increased number ofmisclassification\\n claims. With respect to our outstanding legal and regulatory matters, based on our current knowledge, we believe that the ultimate amount orrange\\n of reasonably possible loss will not, either individually or in the aggregate, have a material adverse effect on our business, financial position, results ofoperations,\\n or cash flows. The outcome of such legal matters is inherently unpredictable and subject to significant uncertainties. If one or more of these matterswere\\n resolved  against  us  for  amounts  in  excess  of  management's  expectations,  our  results  of  operations,  financial  condition  or  cash  flows  could  be  materiallyadversely affected.\\nDriver Classification\\nCalifornia Attorney General Lawsuit\\nIn\\n January 2020, AB5 went into effect. AB5 codifies a test to determine whether a worker is an employee under California law. The test is referred to as the“ABC”\\n test, and was originally handed down by the California Supreme Court in Dynamex Operations v. Superior Court in 2018. Under the ABC test, workersperforming\\n services  for  a  hiring  entity  are  considered  employees  unless  the  hiring  entity  can  demonstrate  three  things:  the  worker  (A)  is  free  from  the  hiringentity’s\\n control, (B) performs work that is outside the usual course of the hiring entity’s business, and (C) customarily engages in the independent trade, work ortype of business performed fo\\nr the hiring entity.On\\n May 5, 2020, the California Attorney General, in conjunction with the city attorneys for San Francisco, Los Angeles and San Diego, filed a complaint inSan\\n Francisco Superior Court against Uber and Lyft, Inc. (“Lyft”). The complaint alleges drivers are misclassified, and seeks an injunction and monetary damagesrelated to the alleged competitive\\n advantage caused by the alleged misclassification of drivers.On\\n August 10, 2020, the Court issued a preliminary injunction order, prohibiting us from classifying drivers as independent contractors and from violatingvarious wage and hour laws. The injunction was stayed pending appeal.\", start_char_idx=0, end_char_idx=4191, text_template='{metadata_str}\\n\\n{content}', metadata_template='{key}: {value}', metadata_seperator='\\n'), score=0.8630808898426457)]\n"
          ]
        }
      ],
      "source": [
        "print(response)\n",
        "pprint.pprint(response.source_nodes)"
      ]
    }
  ],
  "metadata": {
    "colab": {
      "provenance": []
    },
    "kernelspec": {
      "display_name": "Python 3",
      "name": "python3"
    },
    "language_info": {
      "codemirror_mode": {
        "name": "ipython",
        "version": 3
      },
      "file_extension": ".py",
      "mimetype": "text/x-python",
      "name": "python",
      "nbconvert_exporter": "python",
      "pygments_lexer": "ipython3",
      "version": "3.9.13"
    }
  },
  "nbformat": 4,
  "nbformat_minor": 0
}
