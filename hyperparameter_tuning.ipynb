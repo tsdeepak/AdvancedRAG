{
  "cells": [
    {
      "cell_type": "code",
      "execution_count": 3,
      "metadata": {
        "colab": {
          "base_uri": "https://localhost:8080/"
        },
        "id": "gZhtMcUkhCRn",
        "outputId": "1981c007-7c96-4b0c-b791-da993a64d317"
      },
      "outputs": [
        {
          "name": "stdout",
          "output_type": "stream",
          "text": [
            "Requirement already satisfied: llama_index==0.9.31 in .\\llamaindex\\lib\\site-packages (0.9.31)\n",
            "Requirement already satisfied: pypdf in .\\llamaindex\\lib\\site-packages (4.1.0)\n",
            "Requirement already satisfied: python-dotenv in .\\llamaindex\\lib\\site-packages (1.0.1)\n",
            "Requirement already satisfied: matplotlib in .\\llamaindex\\lib\\site-packages (3.8.3)\n",
            "Requirement already satisfied: beautifulsoup4<5.0.0,>=4.12.2 in .\\llamaindex\\lib\\site-packages (from llama_index==0.9.31) (4.12.3)\n",
            "Requirement already satisfied: tenacity<9.0.0,>=8.2.0 in .\\llamaindex\\lib\\site-packages (from llama_index==0.9.31) (8.2.3)\n",
            "Requirement already satisfied: openai>=1.1.0 in .\\llamaindex\\lib\\site-packages (from llama_index==0.9.31) (1.14.1)\n",
            "Requirement already satisfied: tiktoken>=0.3.3 in .\\llamaindex\\lib\\site-packages (from llama_index==0.9.31) (0.5.2)\n",
            "Requirement already satisfied: numpy in .\\llamaindex\\lib\\site-packages (from llama_index==0.9.31) (1.26.4)\n",
            "Requirement already satisfied: typing-extensions>=4.5.0 in .\\llamaindex\\lib\\site-packages (from llama_index==0.9.31) (4.9.0)\n",
            "Requirement already satisfied: pandas in .\\llamaindex\\lib\\site-packages (from llama_index==0.9.31) (2.1.4)\n",
            "Requirement already satisfied: typing-inspect>=0.8.0 in .\\llamaindex\\lib\\site-packages (from llama_index==0.9.31) (0.9.0)\n",
            "Requirement already satisfied: SQLAlchemy[asyncio]>=1.4.49 in .\\llamaindex\\lib\\site-packages (from llama_index==0.9.31) (2.0.25)\n",
            "Requirement already satisfied: aiohttp<4.0.0,>=3.8.6 in .\\llamaindex\\lib\\site-packages (from llama_index==0.9.31) (3.9.1)\n",
            "Requirement already satisfied: dataclasses-json in .\\llamaindex\\lib\\site-packages (from llama_index==0.9.31) (0.6.4)\n",
            "Requirement already satisfied: nltk<4.0.0,>=3.8.1 in .\\llamaindex\\lib\\site-packages (from llama_index==0.9.31) (3.8.1)\n",
            "Requirement already satisfied: nest-asyncio<2.0.0,>=1.5.8 in .\\llamaindex\\lib\\site-packages (from llama_index==0.9.31) (1.5.9)\n",
            "Requirement already satisfied: httpx in .\\llamaindex\\lib\\site-packages (from llama_index==0.9.31) (0.25.2)\n",
            "Requirement already satisfied: networkx>=3.0 in .\\llamaindex\\lib\\site-packages (from llama_index==0.9.31) (3.2.1)\n",
            "Requirement already satisfied: fsspec>=2023.5.0 in .\\llamaindex\\lib\\site-packages (from llama_index==0.9.31) (2023.12.2)\n",
            "Requirement already satisfied: requests>=2.31.0 in .\\llamaindex\\lib\\site-packages (from llama_index==0.9.31) (2.31.0)\n",
            "Requirement already satisfied: deprecated>=1.2.9.3 in .\\llamaindex\\lib\\site-packages (from llama_index==0.9.31) (1.2.14)\n",
            "Requirement already satisfied: importlib-resources>=3.2.0 in .\\llamaindex\\lib\\site-packages (from matplotlib) (6.3.1)\n",
            "Requirement already satisfied: pyparsing>=2.3.1 in .\\llamaindex\\lib\\site-packages (from matplotlib) (3.1.2)\n",
            "Requirement already satisfied: fonttools>=4.22.0 in .\\llamaindex\\lib\\site-packages (from matplotlib) (4.50.0)\n",
            "Requirement already satisfied: cycler>=0.10 in .\\llamaindex\\lib\\site-packages (from matplotlib) (0.12.1)\n",
            "Requirement already satisfied: packaging>=20.0 in .\\llamaindex\\lib\\site-packages (from matplotlib) (23.2)\n",
            "Requirement already satisfied: pillow>=8 in .\\llamaindex\\lib\\site-packages (from matplotlib) (10.2.0)\n",
            "Requirement already satisfied: kiwisolver>=1.3.1 in .\\llamaindex\\lib\\site-packages (from matplotlib) (1.4.5)\n",
            "Requirement already satisfied: python-dateutil>=2.7 in .\\llamaindex\\lib\\site-packages (from matplotlib) (2.8.2)\n",
            "Requirement already satisfied: contourpy>=1.0.1 in .\\llamaindex\\lib\\site-packages (from matplotlib) (1.2.0)\n",
            "Requirement already satisfied: async-timeout<5.0,>=4.0 in .\\llamaindex\\lib\\site-packages (from aiohttp<4.0.0,>=3.8.6->llama_index==0.9.31) (4.0.3)\n",
            "Requirement already satisfied: aiosignal>=1.1.2 in .\\llamaindex\\lib\\site-packages (from aiohttp<4.0.0,>=3.8.6->llama_index==0.9.31) (1.3.1)\n",
            "Requirement already satisfied: attrs>=17.3.0 in .\\llamaindex\\lib\\site-packages (from aiohttp<4.0.0,>=3.8.6->llama_index==0.9.31) (23.2.0)\n",
            "Requirement already satisfied: multidict<7.0,>=4.5 in .\\llamaindex\\lib\\site-packages (from aiohttp<4.0.0,>=3.8.6->llama_index==0.9.31) (6.0.4)\n",
            "Requirement already satisfied: yarl<2.0,>=1.0 in .\\llamaindex\\lib\\site-packages (from aiohttp<4.0.0,>=3.8.6->llama_index==0.9.31) (1.9.4)\n",
            "Requirement already satisfied: frozenlist>=1.1.1 in .\\llamaindex\\lib\\site-packages (from aiohttp<4.0.0,>=3.8.6->llama_index==0.9.31) (1.4.1)\n",
            "Requirement already satisfied: soupsieve>1.2 in .\\llamaindex\\lib\\site-packages (from beautifulsoup4<5.0.0,>=4.12.2->llama_index==0.9.31) (2.5)\n",
            "Requirement already satisfied: wrapt<2,>=1.10 in .\\llamaindex\\lib\\site-packages (from deprecated>=1.2.9.3->llama_index==0.9.31) (1.16.0)\n",
            "Requirement already satisfied: zipp>=3.1.0 in .\\llamaindex\\lib\\site-packages (from importlib-resources>=3.2.0->matplotlib) (3.17.0)\n",
            "Requirement already satisfied: joblib in .\\llamaindex\\lib\\site-packages (from nltk<4.0.0,>=3.8.1->llama_index==0.9.31) (1.3.2)\n",
            "Requirement already satisfied: tqdm in .\\llamaindex\\lib\\site-packages (from nltk<4.0.0,>=3.8.1->llama_index==0.9.31) (4.66.2)\n",
            "Requirement already satisfied: regex>=2021.8.3 in .\\llamaindex\\lib\\site-packages (from nltk<4.0.0,>=3.8.1->llama_index==0.9.31) (2023.12.25)\n",
            "Requirement already satisfied: click in .\\llamaindex\\lib\\site-packages (from nltk<4.0.0,>=3.8.1->llama_index==0.9.31) (8.1.7)\n",
            "Requirement already satisfied: sniffio in .\\llamaindex\\lib\\site-packages (from openai>=1.1.0->llama_index==0.9.31) (1.3.0)\n",
            "Requirement already satisfied: distro<2,>=1.7.0 in .\\llamaindex\\lib\\site-packages (from openai>=1.1.0->llama_index==0.9.31) (1.9.0)\n",
            "Requirement already satisfied: pydantic<3,>=1.9.0 in .\\llamaindex\\lib\\site-packages (from openai>=1.1.0->llama_index==0.9.31) (2.5.3)\n",
            "Requirement already satisfied: anyio<5,>=3.5.0 in .\\llamaindex\\lib\\site-packages (from openai>=1.1.0->llama_index==0.9.31) (4.2.0)\n",
            "Requirement already satisfied: idna in .\\llamaindex\\lib\\site-packages (from httpx->llama_index==0.9.31) (3.6)\n",
            "Requirement already satisfied: certifi in .\\llamaindex\\lib\\site-packages (from httpx->llama_index==0.9.31) (2024.2.2)\n",
            "Requirement already satisfied: httpcore==1.* in .\\llamaindex\\lib\\site-packages (from httpx->llama_index==0.9.31) (1.0.2)\n",
            "Requirement already satisfied: h11<0.15,>=0.13 in .\\llamaindex\\lib\\site-packages (from httpcore==1.*->httpx->llama_index==0.9.31) (0.14.0)\n",
            "Requirement already satisfied: six>=1.5 in .\\llamaindex\\lib\\site-packages (from python-dateutil>=2.7->matplotlib) (1.16.0)\n",
            "Requirement already satisfied: charset-normalizer<4,>=2 in .\\llamaindex\\lib\\site-packages (from requests>=2.31.0->llama_index==0.9.31) (3.3.2)\n",
            "Requirement already satisfied: urllib3<3,>=1.21.1 in .\\llamaindex\\lib\\site-packages (from requests>=2.31.0->llama_index==0.9.31) (1.26.18)\n",
            "Requirement already satisfied: greenlet!=0.4.17 in .\\llamaindex\\lib\\site-packages (from SQLAlchemy[asyncio]>=1.4.49->llama_index==0.9.31) (3.0.3)\n",
            "Requirement already satisfied: mypy-extensions>=0.3.0 in .\\llamaindex\\lib\\site-packages (from typing-inspect>=0.8.0->llama_index==0.9.31) (1.0.0)\n",
            "Requirement already satisfied: marshmallow<4.0.0,>=3.18.0 in .\\llamaindex\\lib\\site-packages (from dataclasses-json->llama_index==0.9.31) (3.20.2)\n",
            "Requirement already satisfied: tzdata>=2022.1 in .\\llamaindex\\lib\\site-packages (from pandas->llama_index==0.9.31) (2023.4)\n",
            "Requirement already satisfied: pytz>=2020.1 in .\\llamaindex\\lib\\site-packages (from pandas->llama_index==0.9.31) (2023.3.post1)\n",
            "Requirement already satisfied: exceptiongroup>=1.0.2 in .\\llamaindex\\lib\\site-packages (from anyio<5,>=3.5.0->openai>=1.1.0->llama_index==0.9.31) (1.2.0)\n",
            "Requirement already satisfied: annotated-types>=0.4.0 in .\\llamaindex\\lib\\site-packages (from pydantic<3,>=1.9.0->openai>=1.1.0->llama_index==0.9.31) (0.6.0)\n",
            "Requirement already satisfied: pydantic-core==2.14.6 in .\\llamaindex\\lib\\site-packages (from pydantic<3,>=1.9.0->openai>=1.1.0->llama_index==0.9.31) (2.14.6)\n",
            "Requirement already satisfied: colorama in .\\llamaindex\\lib\\site-packages (from tqdm->nltk<4.0.0,>=3.8.1->llama_index==0.9.31) (0.4.6)\n"
          ]
        },
        {
          "name": "stderr",
          "output_type": "stream",
          "text": [
            "WARNING: You are using pip version 22.0.4; however, version 24.0 is available.\n",
            "You should consider upgrading via the 'C:\\llamaindex\\llamaindex-samples\\llamaindex\\Scripts\\python.exe -m pip install --upgrade pip' command.\n"
          ]
        }
      ],
      "source": [
        "!pip install llama_index==0.9.31 pypdf python-dotenv matplotlib"
      ]
    },
    {
      "cell_type": "markdown",
      "metadata": {
        "id": "PlYCrikd0WNr"
      },
      "source": [
        "## Load document"
      ]
    },
    {
      "cell_type": "code",
      "execution_count": 4,
      "metadata": {
        "id": "9WMxhw2Yjpjs"
      },
      "outputs": [],
      "source": [
        "import os, logging, sys\n",
        "import nest_asyncio\n",
        "from IPython.lib.pretty import pretty\n",
        "\n",
        "nest_asyncio.apply()\n",
        "from dotenv import load_dotenv \n",
        "\n",
        "load_dotenv(\".env\", override=True)\n",
        "openai_key = os.environ[\"OPENAI_API_KEY\"] \n",
        "\n",
        "logging.basicConfig(stream=sys.stdout, level=logging.CRITICAL)"
      ]
    },
    {
      "cell_type": "code",
      "execution_count": 5,
      "metadata": {
        "colab": {
          "base_uri": "https://localhost:8080/"
        },
        "id": "An74pufeQSQV",
        "outputId": "6d080851-33e1-4752-b4fd-830dae8c68bc"
      },
      "outputs": [
        {
          "name": "stdout",
          "output_type": "stream",
          "text": [
            "loaded documents with 8 documents\n",
            "loaded 16 nodes\n"
          ]
        }
      ],
      "source": [
        "# from llama_index.core import SimpleDirectoryReader\n",
        "# from llama_index.core.indices.service_context import ServiceContext\n",
        "from llama_index import SimpleDirectoryReader\n",
        "from llama_index import ServiceContext\n",
        "from llama_index.llms.openai import OpenAI\n",
        "from llama_index.node_parser import SentenceSplitter\n",
        "\n",
        "import logging\n",
        "logger = logging.getLogger()\n",
        "logger.setLevel(logging.CRITICAL)\n",
        "\n",
        "documents = SimpleDirectoryReader(\"data_eval\").load_data()\n",
        "print(f\"loaded documents with {len(documents)} documents\")\n",
        "\n",
        "\n",
        "node_parser = SentenceSplitter(chunk_size=256)\n",
        "nodes = node_parser(documents)\n",
        "print(f\"loaded {len(nodes)} nodes\")"
      ]
    },
    {
      "cell_type": "code",
      "execution_count": 7,
      "metadata": {},
      "outputs": [
        {
          "data": {
            "text/plain": [
              "[TextNode(id_='4ce5e3ea-8601-4f49-81b5-724ff93d8f66', embedding=None, metadata={'page_label': '1', 'file_name': 'DevOps_Self-Service_Pipeline_Architecture.pdf', 'file_path': 'data_eval\\\\DevOps_Self-Service_Pipeline_Architecture.pdf', 'file_type': 'application/pdf', 'file_size': 771061, 'creation_date': '2024-03-17', 'last_modified_date': '2024-03-17', 'last_accessed_date': '2024-03-19'}, excluded_embed_metadata_keys=['file_name', 'file_type', 'file_size', 'creation_date', 'last_modified_date', 'last_accessed_date'], excluded_llm_metadata_keys=['file_name', 'file_type', 'file_size', 'creation_date', 'last_modified_date', 'last_accessed_date'], relationships={<NodeRelationship.SOURCE: '1'>: RelatedNodeInfo(node_id='56234f1e-31da-4574-bba8-c840cf9fdf26', node_type=<ObjectType.DOCUMENT: '4'>, metadata={'page_label': '1', 'file_name': 'DevOps_Self-Service_Pipeline_Architecture.pdf', 'file_path': 'data_eval\\\\DevOps_Self-Service_Pipeline_Architecture.pdf', 'file_type': 'application/pdf', 'file_size': 771061, 'creation_date': '2024-03-17', 'last_modified_date': '2024-03-17', 'last_accessed_date': '2024-03-19'}, hash='114116c368beb77dbafde9afdc2072d0f11ccc2ebf99fc719b7ecb7a5e64a281'), <NodeRelationship.NEXT: '3'>: RelatedNodeInfo(node_id='d84ba7d4-966f-495f-bede-d8310a887ff0', node_type=<ObjectType.TEXT: '1'>, metadata={}, hash='f7050086f49e86390774a6fb53ef3f5e2e925f4a80dfaf5033155f4207183f96')}, hash='43823b0fa810e6a786ba9a26e3f119374f195ef11d0fe0dc7bc33d5db8ad0a04', text='DevOps Self -Service Pipeline Architecture and Its 3 –2–1 Rule  \\nA high -level architectural overview of the self -service pipeline  \\n \\nDevOps Self -Service Calls for Drastic Mindset Change  \\nWhether you call it DevOps self -service, democratizing DevOps, or Platform Engineering, \\nthe goal is the same — to empower developers with more access, control, and ownership \\nover the pipelines to boost productivity.  \\nLet’s call it “DevOps self -service” in t his article to be consistent in our terms.', start_char_idx=0, end_char_idx=497, text_template='{metadata_str}\\n\\n{content}', metadata_template='{key}: {value}', metadata_seperator='\\n'),\n",
              " TextNode(id_='d84ba7d4-966f-495f-bede-d8310a887ff0', embedding=None, metadata={'page_label': '2', 'file_name': 'DevOps_Self-Service_Pipeline_Architecture.pdf', 'file_path': 'data_eval\\\\DevOps_Self-Service_Pipeline_Architecture.pdf', 'file_type': 'application/pdf', 'file_size': 771061, 'creation_date': '2024-03-17', 'last_modified_date': '2024-03-17', 'last_accessed_date': '2024-03-19'}, excluded_embed_metadata_keys=['file_name', 'file_type', 'file_size', 'creation_date', 'last_modified_date', 'last_accessed_date'], excluded_llm_metadata_keys=['file_name', 'file_type', 'file_size', 'creation_date', 'last_modified_date', 'last_accessed_date'], relationships={<NodeRelationship.SOURCE: '1'>: RelatedNodeInfo(node_id='e02265fa-93fe-4840-bad6-353f87b089b5', node_type=<ObjectType.DOCUMENT: '4'>, metadata={'page_label': '2', 'file_name': 'DevOps_Self-Service_Pipeline_Architecture.pdf', 'file_path': 'data_eval\\\\DevOps_Self-Service_Pipeline_Architecture.pdf', 'file_type': 'application/pdf', 'file_size': 771061, 'creation_date': '2024-03-17', 'last_modified_date': '2024-03-17', 'last_accessed_date': '2024-03-19'}, hash='0cb24764eaf9b12db33c515e7bb74bca8e0be075e10238f5ed584b95c94a0277'), <NodeRelationship.PREVIOUS: '2'>: RelatedNodeInfo(node_id='4ce5e3ea-8601-4f49-81b5-724ff93d8f66', node_type=<ObjectType.TEXT: '1'>, metadata={'page_label': '1', 'file_name': 'DevOps_Self-Service_Pipeline_Architecture.pdf', 'file_path': 'data_eval\\\\DevOps_Self-Service_Pipeline_Architecture.pdf', 'file_type': 'application/pdf', 'file_size': 771061, 'creation_date': '2024-03-17', 'last_modified_date': '2024-03-17', 'last_accessed_date': '2024-03-19'}, hash='43823b0fa810e6a786ba9a26e3f119374f195ef11d0fe0dc7bc33d5db8ad0a04'), <NodeRelationship.NEXT: '3'>: RelatedNodeInfo(node_id='f7d410b4-8488-4bfa-bb66-21c8b12240f2', node_type=<ObjectType.TEXT: '1'>, metadata={}, hash='1473c6af62d744a66adc43305b1896e313310ea0acd6b9f882bccab41a7ae08c')}, hash='f7050086f49e86390774a6fb53ef3f5e2e925f4a80dfaf5033155f4207183f96', text='Why drastic mindset change? Let’s start with exploring our self -service pipeline \\narchitecture from a high level.  \\nSelf-Service Pipeline Architecture  \\nThe diagram below depicts a generic self -service pipeline archite cture based on a 3 –2–1 \\nrule (a term I coined while drawing the diagram): Three types of source code. Two types \\nof pipelines. One pipeline integration glue. I mention the word “generic” mainly because \\nthere are many variations of the pipeline architecture b ased on the types of workloads. \\nThis generic pipeline design is more tailored for microservices architecture, not for \\nserverless workloads. Serverless pipeline architecture should be even simpler.  \\n \\ndiagram by author  \\nLet’s dive in to see what exactly this 3 –2–1 rule entails.  \\nThree Types of Source Code  \\nThe following three types of source code will reside in the same G itHub repository for \\nyour microservice.', start_char_idx=0, end_char_idx=903, text_template='{metadata_str}\\n\\n{content}', metadata_template='{key}: {value}', metadata_seperator='\\n'),\n",
              " TextNode(id_='f7d410b4-8488-4bfa-bb66-21c8b12240f2', embedding=None, metadata={'page_label': '3', 'file_name': 'DevOps_Self-Service_Pipeline_Architecture.pdf', 'file_path': 'data_eval\\\\DevOps_Self-Service_Pipeline_Architecture.pdf', 'file_type': 'application/pdf', 'file_size': 771061, 'creation_date': '2024-03-17', 'last_modified_date': '2024-03-17', 'last_accessed_date': '2024-03-19'}, excluded_embed_metadata_keys=['file_name', 'file_type', 'file_size', 'creation_date', 'last_modified_date', 'last_accessed_date'], excluded_llm_metadata_keys=['file_name', 'file_type', 'file_size', 'creation_date', 'last_modified_date', 'last_accessed_date'], relationships={<NodeRelationship.SOURCE: '1'>: RelatedNodeInfo(node_id='3aa0a459-784b-409b-9ca5-03610fce4179', node_type=<ObjectType.DOCUMENT: '4'>, metadata={'page_label': '3', 'file_name': 'DevOps_Self-Service_Pipeline_Architecture.pdf', 'file_path': 'data_eval\\\\DevOps_Self-Service_Pipeline_Architecture.pdf', 'file_type': 'application/pdf', 'file_size': 771061, 'creation_date': '2024-03-17', 'last_modified_date': '2024-03-17', 'last_accessed_date': '2024-03-19'}, hash='b794fecdb283251716af81780a897425ef4a21e4fe9d2548d48c153003f73223'), <NodeRelationship.PREVIOUS: '2'>: RelatedNodeInfo(node_id='d84ba7d4-966f-495f-bede-d8310a887ff0', node_type=<ObjectType.TEXT: '1'>, metadata={'page_label': '2', 'file_name': 'DevOps_Self-Service_Pipeline_Architecture.pdf', 'file_path': 'data_eval\\\\DevOps_Self-Service_Pipeline_Architecture.pdf', 'file_type': 'application/pdf', 'file_size': 771061, 'creation_date': '2024-03-17', 'last_modified_date': '2024-03-17', 'last_accessed_date': '2024-03-19'}, hash='f7050086f49e86390774a6fb53ef3f5e2e925f4a80dfaf5033155f4207183f96'), <NodeRelationship.NEXT: '3'>: RelatedNodeInfo(node_id='0295eef6-02bc-40cd-b426-644cae05631a', node_type=<ObjectType.TEXT: '1'>, metadata={}, hash='a7d2b513bd62e58df1d47e8cd029613c542de26a03185f8b55a5442d3298e598')}, hash='1473c6af62d744a66adc43305b1896e313310ea0acd6b9f882bccab41a7ae08c', text='• Terraform code: yes, we have Terraform code residing in application \\nrepositories. This, perhaps, is the most challenging for some to accept as \\nwe have been used to having Terraform code centralized in a particular \\nDevOps repo, no developers allowed. Now with DevOps self -service, we \\nare relinquishing the Terraform code to developers, partially, into the \\napplication repos. Why partially? because we are keeping the Terraform \\nreusable modules in a centralized repo still. More on Terraform reusable \\nmodules and Terraform project structure in my story titled  DevOps Self -\\nService Centric Terraform Project Structure . \\n• Project source code: this is our good old source code for our app, be it \\nJava, Node.js, Python, or other programming languages.  \\n• GitHub Actions workflow code: for those who are familiar with GitHub \\nActions, this is no surprise, as the actions workflow yml f iles have to reside \\nin the  .github/workflows  directory at the root of our app.', start_char_idx=0, end_char_idx=976, text_template='{metadata_str}\\n\\n{content}', metadata_template='{key}: {value}', metadata_seperator='\\n'),\n",
              " TextNode(id_='0295eef6-02bc-40cd-b426-644cae05631a', embedding=None, metadata={'page_label': '3', 'file_name': 'DevOps_Self-Service_Pipeline_Architecture.pdf', 'file_path': 'data_eval\\\\DevOps_Self-Service_Pipeline_Architecture.pdf', 'file_type': 'application/pdf', 'file_size': 771061, 'creation_date': '2024-03-17', 'last_modified_date': '2024-03-17', 'last_accessed_date': '2024-03-19'}, excluded_embed_metadata_keys=['file_name', 'file_type', 'file_size', 'creation_date', 'last_modified_date', 'last_accessed_date'], excluded_llm_metadata_keys=['file_name', 'file_type', 'file_size', 'creation_date', 'last_modified_date', 'last_accessed_date'], relationships={<NodeRelationship.SOURCE: '1'>: RelatedNodeInfo(node_id='3aa0a459-784b-409b-9ca5-03610fce4179', node_type=<ObjectType.DOCUMENT: '4'>, metadata={'page_label': '3', 'file_name': 'DevOps_Self-Service_Pipeline_Architecture.pdf', 'file_path': 'data_eval\\\\DevOps_Self-Service_Pipeline_Architecture.pdf', 'file_type': 'application/pdf', 'file_size': 771061, 'creation_date': '2024-03-17', 'last_modified_date': '2024-03-17', 'last_accessed_date': '2024-03-19'}, hash='b794fecdb283251716af81780a897425ef4a21e4fe9d2548d48c153003f73223'), <NodeRelationship.PREVIOUS: '2'>: RelatedNodeInfo(node_id='f7d410b4-8488-4bfa-bb66-21c8b12240f2', node_type=<ObjectType.TEXT: '1'>, metadata={'page_label': '3', 'file_name': 'DevOps_Self-Service_Pipeline_Architecture.pdf', 'file_path': 'data_eval\\\\DevOps_Self-Service_Pipeline_Architecture.pdf', 'file_type': 'application/pdf', 'file_size': 771061, 'creation_date': '2024-03-17', 'last_modified_date': '2024-03-17', 'last_accessed_date': '2024-03-19'}, hash='1473c6af62d744a66adc43305b1896e313310ea0acd6b9f882bccab41a7ae08c'), <NodeRelationship.NEXT: '3'>: RelatedNodeInfo(node_id='dca1efa3-58ad-4c3e-adc8-6d4e2b242a20', node_type=<ObjectType.TEXT: '1'>, metadata={}, hash='4d51b85a03030e1d077d153356b6cf6f0314ca64da835dd8b530fff51f40095b')}, hash='a7d2b513bd62e58df1d47e8cd029613c542de26a03185f8b55a5442d3298e598', text='Now with DevOps self -service, we \\nare relinquishing the Terraform code to developers, partially, into the \\napplication repos. Why partially? because we are keeping the Terraform \\nreusable modules in a centralized repo still. More on Terraform reusable \\nmodules and Terraform project structure in my story titled  DevOps Self -\\nService Centric Terraform Project Structure . \\n• Project source code: this is our good old source code for our app, be it \\nJava, Node.js, Python, or other programming languages.  \\n• GitHub Actions workflow code: for those who are familiar with GitHub \\nActions, this is no surprise, as the actions workflow yml f iles have to reside \\nin the  .github/workflows  directory at the root of our app.  \\nTwo Types of Pipelines  \\n• Infrastructure pipeline: IaC with Terraform. Picking Terraform here is \\nmainly because of its cloud -agnostic and open source nature. A GitHub \\nActions Terra form workflow can kick off the infrastructure pipeline to \\nprovision cloud resources such as services in AWS.', start_char_idx=255, end_char_idx=1273, text_template='{metadata_str}\\n\\n{content}', metadata_template='{key}: {value}', metadata_seperator='\\n'),\n",
              " TextNode(id_='dca1efa3-58ad-4c3e-adc8-6d4e2b242a20', embedding=None, metadata={'page_label': '3', 'file_name': 'DevOps_Self-Service_Pipeline_Architecture.pdf', 'file_path': 'data_eval\\\\DevOps_Self-Service_Pipeline_Architecture.pdf', 'file_type': 'application/pdf', 'file_size': 771061, 'creation_date': '2024-03-17', 'last_modified_date': '2024-03-17', 'last_accessed_date': '2024-03-19'}, excluded_embed_metadata_keys=['file_name', 'file_type', 'file_size', 'creation_date', 'last_modified_date', 'last_accessed_date'], excluded_llm_metadata_keys=['file_name', 'file_type', 'file_size', 'creation_date', 'last_modified_date', 'last_accessed_date'], relationships={<NodeRelationship.SOURCE: '1'>: RelatedNodeInfo(node_id='3aa0a459-784b-409b-9ca5-03610fce4179', node_type=<ObjectType.DOCUMENT: '4'>, metadata={'page_label': '3', 'file_name': 'DevOps_Self-Service_Pipeline_Architecture.pdf', 'file_path': 'data_eval\\\\DevOps_Self-Service_Pipeline_Architecture.pdf', 'file_type': 'application/pdf', 'file_size': 771061, 'creation_date': '2024-03-17', 'last_modified_date': '2024-03-17', 'last_accessed_date': '2024-03-19'}, hash='b794fecdb283251716af81780a897425ef4a21e4fe9d2548d48c153003f73223'), <NodeRelationship.PREVIOUS: '2'>: RelatedNodeInfo(node_id='0295eef6-02bc-40cd-b426-644cae05631a', node_type=<ObjectType.TEXT: '1'>, metadata={'page_label': '3', 'file_name': 'DevOps_Self-Service_Pipeline_Architecture.pdf', 'file_path': 'data_eval\\\\DevOps_Self-Service_Pipeline_Architecture.pdf', 'file_type': 'application/pdf', 'file_size': 771061, 'creation_date': '2024-03-17', 'last_modified_date': '2024-03-17', 'last_accessed_date': '2024-03-19'}, hash='a7d2b513bd62e58df1d47e8cd029613c542de26a03185f8b55a5442d3298e598'), <NodeRelationship.NEXT: '3'>: RelatedNodeInfo(node_id='9c2e8d2d-f248-4132-a05c-3b6956ede82d', node_type=<ObjectType.TEXT: '1'>, metadata={}, hash='beea9845d6c4f3ef261fe5c1cba41bb43646e356e14286a7e55b558857ae59e4')}, hash='4d51b85a03030e1d077d153356b6cf6f0314ca64da835dd8b530fff51f40095b', text='Why partially? because we are keeping the Terraform \\nreusable modules in a centralized repo still. More on Terraform reusable \\nmodules and Terraform project structure in my story titled  DevOps Self -\\nService Centric Terraform Project Structure . \\n• Project source code: this is our good old source code for our app, be it \\nJava, Node.js, Python, or other programming languages.  \\n• GitHub Actions workflow code: for those who are familiar with GitHub \\nActions, this is no surprise, as the actions workflow yml f iles have to reside \\nin the  .github/workflows  directory at the root of our app.  \\nTwo Types of Pipelines  \\n• Infrastructure pipeline: IaC with Terraform. Picking Terraform here is \\nmainly because of its cloud -agnostic and open source nature. A GitHub \\nActions Terra form workflow can kick off the infrastructure pipeline to \\nprovision cloud resources such as services in AWS.  \\n• Application pipelines: our application CI/CD pipelines, kicked off by \\nGitHub Actions workflows.', start_char_idx=382, end_char_idx=1374, text_template='{metadata_str}\\n\\n{content}', metadata_template='{key}: {value}', metadata_seperator='\\n'),\n",
              " TextNode(id_='9c2e8d2d-f248-4132-a05c-3b6956ede82d', embedding=None, metadata={'page_label': '3', 'file_name': 'DevOps_Self-Service_Pipeline_Architecture.pdf', 'file_path': 'data_eval\\\\DevOps_Self-Service_Pipeline_Architecture.pdf', 'file_type': 'application/pdf', 'file_size': 771061, 'creation_date': '2024-03-17', 'last_modified_date': '2024-03-17', 'last_accessed_date': '2024-03-19'}, excluded_embed_metadata_keys=['file_name', 'file_type', 'file_size', 'creation_date', 'last_modified_date', 'last_accessed_date'], excluded_llm_metadata_keys=['file_name', 'file_type', 'file_size', 'creation_date', 'last_modified_date', 'last_accessed_date'], relationships={<NodeRelationship.SOURCE: '1'>: RelatedNodeInfo(node_id='3aa0a459-784b-409b-9ca5-03610fce4179', node_type=<ObjectType.DOCUMENT: '4'>, metadata={'page_label': '3', 'file_name': 'DevOps_Self-Service_Pipeline_Architecture.pdf', 'file_path': 'data_eval\\\\DevOps_Self-Service_Pipeline_Architecture.pdf', 'file_type': 'application/pdf', 'file_size': 771061, 'creation_date': '2024-03-17', 'last_modified_date': '2024-03-17', 'last_accessed_date': '2024-03-19'}, hash='b794fecdb283251716af81780a897425ef4a21e4fe9d2548d48c153003f73223'), <NodeRelationship.PREVIOUS: '2'>: RelatedNodeInfo(node_id='dca1efa3-58ad-4c3e-adc8-6d4e2b242a20', node_type=<ObjectType.TEXT: '1'>, metadata={'page_label': '3', 'file_name': 'DevOps_Self-Service_Pipeline_Architecture.pdf', 'file_path': 'data_eval\\\\DevOps_Self-Service_Pipeline_Architecture.pdf', 'file_type': 'application/pdf', 'file_size': 771061, 'creation_date': '2024-03-17', 'last_modified_date': '2024-03-17', 'last_accessed_date': '2024-03-19'}, hash='4d51b85a03030e1d077d153356b6cf6f0314ca64da835dd8b530fff51f40095b'), <NodeRelationship.NEXT: '3'>: RelatedNodeInfo(node_id='6ee0253d-53b1-438e-a058-6fda927d9ea8', node_type=<ObjectType.TEXT: '1'>, metadata={}, hash='cd4ade3898393c1cc24c4e20cfa18e33962a975e8231a460e3199ef4ffaf1276')}, hash='beea9845d6c4f3ef261fe5c1cba41bb43646e356e14286a7e55b558857ae59e4', text='More on Terraform reusable \\nmodules and Terraform project structure in my story titled  DevOps Self -\\nService Centric Terraform Project Structure . \\n• Project source code: this is our good old source code for our app, be it \\nJava, Node.js, Python, or other programming languages.  \\n• GitHub Actions workflow code: for those who are familiar with GitHub \\nActions, this is no surprise, as the actions workflow yml f iles have to reside \\nin the  .github/workflows  directory at the root of our app.  \\nTwo Types of Pipelines  \\n• Infrastructure pipeline: IaC with Terraform. Picking Terraform here is \\nmainly because of its cloud -agnostic and open source nature. A GitHub \\nActions Terra form workflow can kick off the infrastructure pipeline to \\nprovision cloud resources such as services in AWS.  \\n• Application pipelines: our application CI/CD pipelines, kicked off by \\nGitHub Actions workflows. These are the pipelines to build, test, scan, and \\ndeploy our apps into our cloud providers.  \\nOne Pipeline Integration Glue', start_char_idx=481, end_char_idx=1499, text_template='{metadata_str}\\n\\n{content}', metadata_template='{key}: {value}', metadata_seperator='\\n'),\n",
              " TextNode(id_='6ee0253d-53b1-438e-a058-6fda927d9ea8', embedding=None, metadata={'page_label': '4', 'file_name': 'DevOps_Self-Service_Pipeline_Architecture.pdf', 'file_path': 'data_eval\\\\DevOps_Self-Service_Pipeline_Architecture.pdf', 'file_type': 'application/pdf', 'file_size': 771061, 'creation_date': '2024-03-17', 'last_modified_date': '2024-03-17', 'last_accessed_date': '2024-03-19'}, excluded_embed_metadata_keys=['file_name', 'file_type', 'file_size', 'creation_date', 'last_modified_date', 'last_accessed_date'], excluded_llm_metadata_keys=['file_name', 'file_type', 'file_size', 'creation_date', 'last_modified_date', 'last_accessed_date'], relationships={<NodeRelationship.SOURCE: '1'>: RelatedNodeInfo(node_id='08ab2803-e34e-4e7d-98f2-52c2d75392c6', node_type=<ObjectType.DOCUMENT: '4'>, metadata={'page_label': '4', 'file_name': 'DevOps_Self-Service_Pipeline_Architecture.pdf', 'file_path': 'data_eval\\\\DevOps_Self-Service_Pipeline_Architecture.pdf', 'file_type': 'application/pdf', 'file_size': 771061, 'creation_date': '2024-03-17', 'last_modified_date': '2024-03-17', 'last_accessed_date': '2024-03-19'}, hash='f774df721d1bb0a85f7d2d5a7163b5892a3f7fdfcb1358e9a0dae117afef85f9'), <NodeRelationship.PREVIOUS: '2'>: RelatedNodeInfo(node_id='9c2e8d2d-f248-4132-a05c-3b6956ede82d', node_type=<ObjectType.TEXT: '1'>, metadata={'page_label': '3', 'file_name': 'DevOps_Self-Service_Pipeline_Architecture.pdf', 'file_path': 'data_eval\\\\DevOps_Self-Service_Pipeline_Architecture.pdf', 'file_type': 'application/pdf', 'file_size': 771061, 'creation_date': '2024-03-17', 'last_modified_date': '2024-03-17', 'last_accessed_date': '2024-03-19'}, hash='beea9845d6c4f3ef261fe5c1cba41bb43646e356e14286a7e55b558857ae59e4'), <NodeRelationship.NEXT: '3'>: RelatedNodeInfo(node_id='77b72a40-7711-4606-9c8b-f39dbbdd75cb', node_type=<ObjectType.TEXT: '1'>, metadata={}, hash='da3c761821bd1853685ab662d2e5a16efea7364eeca5c79a068a2673446136c5')}, hash='cd4ade3898393c1cc24c4e20cfa18e33962a975e8231a460e3199ef4ffaf1276', text='• How do we tie infrastructure pipelines with application pipelines to make \\nthem work together seamlessly? We need a glue to integrate these two \\ntypes of pipelines. And this glue is GitHu b secrets creation automation. \\nUpon successful infrastructure provisioning, we can use Terraform to \\nautomate GitHub secrets creation by calling the GitHub provider. Notice \\nthe double -ended arrows for the infrastructure pipeline in the diagram \\nabove, as the  Terraform outputs for the secrets get inserted into GitHub \\nautomatically. This eliminates manual secrets creation and enables \\napplication pipelines to kick off CI/CD for the specified GitHub \\nenvironment with the secrets associated with that particular Git Hub \\nenvironment provided by Terraform through the infrastructure pipeline. \\nThis accomplishes the end -to-end, state -of-the-art integration of these two \\ntypes of pipelines.  \\nHigh -Level Design of DevOps Pipelines  \\nWe will dive deeper into the project structures  for Terraform, its reusable modules, and \\nthe GitHub Actions workflow orchestration in future stories.', start_char_idx=0, end_char_idx=1082, text_template='{metadata_str}\\n\\n{content}', metadata_template='{key}: {value}', metadata_seperator='\\n'),\n",
              " TextNode(id_='77b72a40-7711-4606-9c8b-f39dbbdd75cb', embedding=None, metadata={'page_label': '4', 'file_name': 'DevOps_Self-Service_Pipeline_Architecture.pdf', 'file_path': 'data_eval\\\\DevOps_Self-Service_Pipeline_Architecture.pdf', 'file_type': 'application/pdf', 'file_size': 771061, 'creation_date': '2024-03-17', 'last_modified_date': '2024-03-17', 'last_accessed_date': '2024-03-19'}, excluded_embed_metadata_keys=['file_name', 'file_type', 'file_size', 'creation_date', 'last_modified_date', 'last_accessed_date'], excluded_llm_metadata_keys=['file_name', 'file_type', 'file_size', 'creation_date', 'last_modified_date', 'last_accessed_date'], relationships={<NodeRelationship.SOURCE: '1'>: RelatedNodeInfo(node_id='08ab2803-e34e-4e7d-98f2-52c2d75392c6', node_type=<ObjectType.DOCUMENT: '4'>, metadata={'page_label': '4', 'file_name': 'DevOps_Self-Service_Pipeline_Architecture.pdf', 'file_path': 'data_eval\\\\DevOps_Self-Service_Pipeline_Architecture.pdf', 'file_type': 'application/pdf', 'file_size': 771061, 'creation_date': '2024-03-17', 'last_modified_date': '2024-03-17', 'last_accessed_date': '2024-03-19'}, hash='f774df721d1bb0a85f7d2d5a7163b5892a3f7fdfcb1358e9a0dae117afef85f9'), <NodeRelationship.PREVIOUS: '2'>: RelatedNodeInfo(node_id='6ee0253d-53b1-438e-a058-6fda927d9ea8', node_type=<ObjectType.TEXT: '1'>, metadata={'page_label': '4', 'file_name': 'DevOps_Self-Service_Pipeline_Architecture.pdf', 'file_path': 'data_eval\\\\DevOps_Self-Service_Pipeline_Architecture.pdf', 'file_type': 'application/pdf', 'file_size': 771061, 'creation_date': '2024-03-17', 'last_modified_date': '2024-03-17', 'last_accessed_date': '2024-03-19'}, hash='cd4ade3898393c1cc24c4e20cfa18e33962a975e8231a460e3199ef4ffaf1276'), <NodeRelationship.NEXT: '3'>: RelatedNodeInfo(node_id='92c6e724-6c35-4cad-bd0f-d7db04a761b9', node_type=<ObjectType.TEXT: '1'>, metadata={}, hash='7f94401be6a8e2e4813b2b9606c2e722596737e5eef7e75b1295bdae46181920')}, hash='da3c761821bd1853685ab662d2e5a16efea7364eeca5c79a068a2673446136c5', text='We need a glue to integrate these two \\ntypes of pipelines. And this glue is GitHu b secrets creation automation. \\nUpon successful infrastructure provisioning, we can use Terraform to \\nautomate GitHub secrets creation by calling the GitHub provider. Notice \\nthe double -ended arrows for the infrastructure pipeline in the diagram \\nabove, as the  Terraform outputs for the secrets get inserted into GitHub \\nautomatically. This eliminates manual secrets creation and enables \\napplication pipelines to kick off CI/CD for the specified GitHub \\nenvironment with the secrets associated with that particular Git Hub \\nenvironment provided by Terraform through the infrastructure pipeline. \\nThis accomplishes the end -to-end, state -of-the-art integration of these two \\ntypes of pipelines.  \\nHigh -Level Design of DevOps Pipelines  \\nWe will dive deeper into the project structures  for Terraform, its reusable modules, and \\nthe GitHub Actions workflow orchestration in future stories. For now, let’s take a high -\\nlevel overview of what the two types of pipelines look like, what they do, and what \\ndetailed steps are involved.', start_char_idx=108, end_char_idx=1225, text_template='{metadata_str}\\n\\n{content}', metadata_template='{key}: {value}', metadata_seperator='\\n')]"
            ]
          },
          "execution_count": 7,
          "metadata": {},
          "output_type": "execute_result"
        }
      ],
      "source": [
        "nodes[:8]"
      ]
    },
    {
      "cell_type": "markdown",
      "metadata": {
        "id": "jDjhvdEv0WPI"
      },
      "source": [
        "## Generate evaluation question/answer pairs"
      ]
    },
    {
      "cell_type": "code",
      "execution_count": 9,
      "metadata": {
        "colab": {
          "base_uri": "https://localhost:8080/"
        },
        "id": "I9z8NK763eFh",
        "outputId": "706646cd-67bf-4b77-8546-1c836753007d"
      },
      "outputs": [
        {
          "name": "stderr",
          "output_type": "stream",
          "text": [
            "c:\\llamaindex\\llamaindex-samples\\llamaindex\\lib\\site-packages\\llama_index\\evaluation\\dataset_generation.py:93: DeprecationWarning: Call to deprecated class QueryResponseDataset. (Deprecated in favor of `LabelledRagDataset` which should be used instead.)\n",
            "  return cls(**data)\n"
          ]
        }
      ],
      "source": [
        "from llama_index.evaluation import (\n",
        "    DatasetGenerator,\n",
        "    QueryResponseDataset,\n",
        ")\n",
        "\n",
        "eval_service_context = ServiceContext.from_defaults(llm=OpenAI(model=\"gpt-4-1106-preview\"))\n",
        "\n",
        "# load eval question/answer dataset from JSON file if exists\n",
        "if os.path.exists(\"data_eval/eval_qr_dataset.json\"):\n",
        "    eval_dataset = QueryResponseDataset.from_json(\"data_eval/eval_qr_dataset.json\")\n",
        "else:\n",
        "    # construct dataset_generator\n",
        "    dataset_generator = DatasetGenerator(\n",
        "        nodes[:8],\n",
        "        service_context=eval_service_context,\n",
        "        show_progress=False,\n",
        "        num_questions_per_chunk=2,\n",
        "    )\n",
        "\n",
        "    # generate queries and responses\n",
        "    eval_dataset = dataset_generator.generate_dataset_from_nodes()\n",
        "\n",
        "    # save the dataset into a file\n",
        "    eval_dataset.save_json(\"data_eval/eval_qr_dataset.json\")"
      ]
    },
    {
      "cell_type": "code",
      "execution_count": 10,
      "metadata": {
        "colab": {
          "base_uri": "https://localhost:8080/"
        },
        "id": "EzAwclEyQxRy",
        "outputId": "39702704-355c-4d8b-99cb-cccd165a4ce9"
      },
      "outputs": [
        {
          "name": "stdout",
          "output_type": "stream",
          "text": [
            "{\n",
            "  \"queries\": {\n",
            "    \"74fa3b29-73ce-4837-a954-1bae16d932b6\": \"According to the document \\\"DevOps_Self-Service_Pipeline_Architecture.pdf,\\\" what is the primary goal of implementing a DevOps self-service approach, also referred to as democratizing DevOps or Platform Engineering?\",\n",
            "    \"d34878ff-d267-4212-a115-9471e1bb1300\": \"In the context of the document provided, explain the significance of the \\\"3\\u20132\\u20131 Rule\\\" in relation to the DevOps Self-Service Pipeline Architecture.\",\n",
            "    \"d3e688eb-6d2c-4a1e-a838-f5f711c64496\": \"Explain the 3-2-1 rule coined by the author in the context of the self-service pipeline architecture as described in the \\\"DevOps_Self-Service_Pipeline_Architecture.pdf\\\" document. Include in your answer the types of source code, pipelines, and the integration glue mentioned.\",\n",
            "    \"2134acbc-5bb5-4cdc-9e77-21e0c8afde73\": \"Discuss the differences between the generic self-service pipeline architecture tailored for microservices and the architecture that should be used for serverless workloads, as outlined on page 2 of the \\\"DevOps_Self-Service_Pipeline_Architecture.pdf\\\" document.\",\n",
            "    \"b33f3e35-eecc-49e2-8591-f5b7e4a298d5\": \"Explain the significance of the shift towards DevOps self-service in the context of Terraform code management, as described in the document \\\"DevOps Self-Service Pipeline Architecture.\\\" Discuss the reasons for keeping Terraform reusable modules centralized while allowing developers to maintain Terraform code within application repositories.\",\n",
            "    \"b0fa341d-3692-4125-8aaa-737caaf64390\": \"Based on the information provided in the \\\"DevOps Self-Service Pipeline Architecture\\\" document, describe the role and location of GitHub Actions workflow code within a project's repository structure. How does this integration contribute to the automation of the DevOps pipeline?\",\n",
            "    \"cbdec7f4-5e5f-4102-852f-eb28348f8f33\": \"Explain the rationale behind partially relinquishing Terraform code to developers in the context of DevOps self-service pipeline architecture, as described in the document \\\"DevOps_Self-Service_Pipeline_Architecture.pdf\\\".\",\n",
            "    \"dae5a8ea-3682-42b4-83c4-27233c208e94\": \"In the context of the document provided, describe the role of GitHub Actions workflow code in the setup of a DevOps self-service pipeline, and specify where the workflow YAML files should be located within an application repository.\",\n",
            "    \"8071ada7-6b51-45fd-a906-e87d2d90ab77\": \"Explain the role of Terraform reusable modules in the DevOps Self-Service Pipeline Architecture and describe where they are stored according to the document \\\"DevOps_Self-Service_Pipeline_Architecture.pdf\\\".\",\n",
            "    \"fd7f0b58-a742-42ba-8cef-3b64ccd788e3\": \"Differentiate between the two types of pipelines mentioned in the document, focusing on their primary functions and the tools used to initiate them within the context of GitHub Actions.\",\n",
            "    \"1902cf39-c01e-4697-adc2-1de59fc2bf8a\": \"Explain the significance of Terraform reusable modules and how they contribute to the structure of a DevOps Self-Service Centric Terraform Project, as discussed in the provided document.\",\n",
            "    \"e7b4aa3e-e93d-4334-8682-cac3b5eb0329\": \"Describe the differences between an Infrastructure pipeline and an Application pipeline in the context of a DevOps Self-Service Pipeline Architecture, and provide examples of when each type of pipeline would be utilized.\",\n",
            "    \"5272478f-ad26-478c-ab56-18041c4dfacd\": \"Explain how Terraform can be utilized to automate the integration of infrastructure pipelines with application pipelines in a DevOps environment, as described in the \\\"DevOps_Self-Service_Pipeline_Architecture.pdf\\\" document.\",\n",
            "    \"fb600348-7f5c-4e73-8c5e-29b99ccc7981\": \"Based on the high-level design mentioned in the document, what is the significance of the double-ended arrows for the infrastructure pipeline in the diagram, and how do they relate to the automation of GitHub secrets creation?\",\n",
            "    \"6fd6b9aa-0f27-4e87-acf9-dfe90844dd43\": \"Explain the role of Terraform in automating GitHub secrets creation as part of the DevOps Self-Service Pipeline Architecture, as described in the document \\\"DevOps_Self-Service_Pipeline_Architecture.pdf\\\".\",\n",
            "    \"72aee458-28f4-4661-bf10-f7fde986b1e8\": \"Based on the high-level design mentioned in the document, what is the significance of the double-ended arrows for the infrastructure pipeline in the diagram, and how do they relate to the integration of infrastructure and application pipelines?\"\n",
            "  },\n",
            "  \"responses\": {\n",
            "    \"74fa3b29-73ce-4837-a954-1bae16d932b6\": \"The primary goal of implementing a DevOps self-service approach, also referred to as democratizing DevOps or Platform Engineering, is to empower developers with more access, control, and ownership over the pipelines to boost productivity.\",\n",
            "    \"d34878ff-d267-4212-a115-9471e1bb1300\": \"Based on the context information provided, there is no specific detail about what the \\\"3\\u20132\\u20131 Rule\\\" entails in relation to the DevOps Self-Service Pipeline Architecture. The context information only gives a high-level overview of the document's content, which focuses on the concept of DevOps self-service and the mindset change required to empower developers with more control over their pipelines.\\n\\nTo explain the significance of the \\\"3\\u20132\\u20131 Rule\\\" without additional information would be speculative. However, in general DevOps or other technical contexts, a \\\"3\\u20132\\u20131 Rule\\\" might refer to a best practice or guideline that is structured in a tiered format, such as having three copies of data, two of which are local but on different devices, and one copy off-site for disaster recovery. But this is just an example and may not be related to the document's content.\\n\\nTo provide an accurate explanation of the \\\"3\\u20132\\u20131 Rule\\\" as it pertains to the DevOps Self-Service Pipeline Architecture, more specific information from the document would be needed.\",\n",
            "    \"d3e688eb-6d2c-4a1e-a838-f5f711c64496\": \"Based on the provided context information from the \\\"DevOps_Self-Service_Pipeline_Architecture.pdf\\\" document, the 3-2-1 rule coined by the author refers to a high-level concept within the self-service pipeline architecture. Here's the breakdown of the rule as it pertains to the architecture:\\n\\nThree Types of Source Code:\\nThe author mentions that there are three types of source code that will reside in the same GitHub repository for a microservice. However, the specific types of source code are not listed in the provided context. Typically, in a microservices architecture, these could be the service's application code, configuration files, and infrastructure-as-code scripts, but the exact types would need to be confirmed by the document's content.\\n\\nTwo Types of Pipelines:\\nThe document refers to two types of pipelines within the self-service pipeline architecture. Again, the specific types are not detailed in the context provided. Generally, in DevOps, the two types of pipelines could refer to Continuous Integration (CI) and Continuous Deployment (CD) pipelines. CI pipelines are responsible for integrating code changes and running tests, while CD pipelines handle the deployment of the code to various environments.\\n\\nOne Pipeline Integration Glue:\\nThe \\\"one pipeline integration glue\\\" likely refers to the tool or set of tools that connect and orchestrate the different pipelines and processes within the architecture. This integration layer would ensure that the pipelines work together seamlessly, enabling automation and efficient workflow across the CI/CD processes. The exact nature of this \\\"glue\\\" is not described in the context provided, but it could be a specific DevOps tool like Jenkins, Spinnaker, or a cloud service provider's native tooling.\\n\\nIn summary, the 3-2-1 rule in the context of the self-service pipeline architecture involves three types of source code in a single repository, two types of pipelines for integration and deployment, and one integration glue that orchestrates the pipeline workflows. The specifics of each component would be detailed in the document, which is not fully provided in the context information.\",\n",
            "    \"2134acbc-5bb5-4cdc-9e77-21e0c8afde73\": \"Based on the context information provided, the \\\"DevOps_Self-Service_Pipeline_Architecture.pdf\\\" document on page 2 outlines a generic self-service pipeline architecture that is tailored for microservices and mentions that the architecture for serverless workloads should be even simpler. However, the specific differences between the two architectures are not detailed in the provided context.\\n\\nThe document describes the generic self-service pipeline architecture for microservices as following a 3\\u20132\\u20131 rule, which includes three types of source code, two types of pipelines, and one pipeline integration glue. This architecture is said to be generic because there can be many variations based on the types of workloads.\\n\\nFor serverless workloads, the document suggests that the pipeline architecture should be simpler, but it does not provide details on how it differs from the microservices-oriented architecture. In general, serverless architectures might require fewer components since serverless computing abstracts the infrastructure layer away from the developer, potentially simplifying deployment pipelines and reducing the need for certain types of source code or pipeline stages.\\n\\nTo fully understand the differences between the two architectures, one would need to access the full content of the document, particularly the section that elaborates on the serverless pipeline architecture.\",\n",
            "    \"b33f3e35-eecc-49e2-8591-f5b7e4a298d5\": \"The shift towards DevOps self-service in the context of Terraform code management, as described in the document \\\"DevOps Self-Service Pipeline Architecture,\\\" signifies a move towards empowering developers with more control and autonomy over the infrastructure as code (IaC) components that are directly related to their applications. This approach has several implications and benefits:\\n\\n1. **Faster Iteration and Ownership**: By allowing developers to maintain Terraform code within their application repositories, they can iterate on infrastructure changes more quickly and in tandem with application changes. This reduces the dependency on a centralized DevOps team and can lead to faster deployment cycles.\\n\\n2. **Improved Collaboration**: Developers are closer to the application's requirements and can better tailor the infrastructure to meet those needs. This proximity can improve the quality of the infrastructure code and make it more aligned with the application's architecture.\\n\\n3. **Increased Responsibility**: With the ability to modify Terraform code, developers take on more responsibility for the infrastructure their applications run on. This can lead to a better understanding of the full stack and encourage best practices in resource management.\\n\\n4. **Specialization of Concerns**: Despite the decentralization, keeping Terraform reusable modules centralized allows for a specialized focus on creating robust, well-tested, and secure modules that can be used across multiple projects. This ensures that common infrastructure patterns are consistent and maintainable.\\n\\n5. **Reduced Duplication**: Centralized Terraform modules help avoid duplication of effort. Developers can use these modules as building blocks for their infrastructure without having to reinvent the wheel for common components.\\n\\n6. **Control and Governance**: By maintaining a central repository for reusable modules, the organization can enforce certain standards, security practices, and compliance requirements. This central oversight ensures that while developers have the flexibility to adapt infrastructure as needed, they do so using approved and vetted components.\\n\\n7. **Ease of Updates**: When updates or improvements are made to the centralized Terraform modules, these can be rolled out across all projects that use them. This simplifies the process of keeping infrastructure code up-to-date and can help with quickly addressing security vulnerabilities or bugs.\\n\\nIn summary, the document outlines a hybrid approach to Terraform code management that balances developer autonomy with centralized control. Developers are given the freedom to manage application-specific Terraform code within their repositories, while the organization retains control over the core, reusable infrastructure components through centralized Terraform modules. This approach aims to combine the benefits of self-service with the consistency and reliability of managed infrastructure.\",\n",
            "    \"b0fa341d-3692-4125-8aaa-737caaf64390\": \"Based on the information provided in the \\\"DevOps Self-Service Pipeline Architecture\\\" document, the GitHub Actions workflow code plays a crucial role in automating the DevOps pipeline within a project's repository structure. The workflow code consists of YAML files that define the automated processes (workflows) to be executed in response to specific events within the GitHub repository, such as a push or a pull request.\\n\\nThe location of the GitHub Actions workflow code is standardized; it must reside in the `.github/workflows` directory at the root of the project's repository. This convention allows GitHub Actions to automatically detect and execute the workflows as defined in the YAML files when the specified events occur.\\n\\nThe integration of GitHub Actions workflow code directly into the project's repository structure contributes to the automation of the DevOps pipeline by enabling the following:\\n\\n1. Continuous Integration (CI): Automated testing and building of the project can be triggered upon code commits, ensuring that new changes do not break the existing codebase.\\n\\n2. Continuous Deployment (CD): Automated deployment processes can be set up to deploy the application to various environments, such as staging or production, after successful integration and testing.\\n\\n3. Infrastructure as Code (IaC): With the inclusion of Terraform code in the application repositories, GitHub Actions can be used to automate the provisioning and management of infrastructure, ensuring that the infrastructure changes are version-controlled and reviewed alongside application code.\\n\\n4. Collaboration and Self-Service: Developers can manage and update the workflows as part of their regular development activities, promoting a self-service model where they are empowered to control the CI/CD aspects of their applications.\\n\\nOverall, the integration of GitHub Actions workflow code into the project's repository structure is a key element in creating a self-service DevOps pipeline, allowing for more efficient, consistent, and automated processes that align with modern DevOps practices.\",\n",
            "    \"cbdec7f4-5e5f-4102-852f-eb28348f8f33\": \"The rationale behind partially relinquishing Terraform code to developers in the context of DevOps self-service pipeline architecture, as described in the document \\\"DevOps_Self-Service_Pipeline_Architecture.pdf,\\\" is to strike a balance between empowering developers and maintaining centralized control over infrastructure provisioning.\\n\\nBy allowing developers to have access to Terraform code within their application repositories, the DevOps self-service model enables them to be more autonomous in managing the infrastructure aspects of their applications. This approach fosters a sense of ownership and accelerates the development process, as developers can make necessary changes to the infrastructure code without waiting for a centralized team to implement those changes.\\n\\nHowever, the document also mentions that Terraform reusable modules are kept in a centralized repository. This is likely done for the following reasons:\\n\\n1. **Consistency**: Reusable modules ensure that common infrastructure patterns and best practices are applied consistently across different projects. This helps in maintaining a standard approach to infrastructure provisioning.\\n\\n2. **Governance**: By centralizing the reusable modules, the organization can enforce governance and compliance requirements. It allows for oversight on how resources are provisioned and managed, which is crucial for security and cost management.\\n\\n3. **Efficiency**: Centralized modules can be optimized and improved over time, benefiting all projects that use them. This avoids duplication of effort and ensures that improvements are shared across the organization.\\n\\n4. **Version Control**: Centralized management of modules allows for better version control and dependency management. When updates or fixes are made to a module, they can be rolled out to all projects that use that module.\\n\\n5. **Knowledge Sharing**: Centralized modules can serve as a knowledge base for developers, helping them understand how to interact with different cloud services and resources.\\n\\nIn summary, the document suggests a hybrid approach where developers are given the flexibility to manage certain aspects of the Terraform code directly within their projects, while still leveraging the benefits of centralized management for shared and reusable infrastructure components. This approach aims to optimize developer productivity while maintaining control over the infrastructure to ensure compliance, security, and cost-effectiveness.\",\n",
            "    \"dae5a8ea-3682-42b4-83c4-27233c208e94\": \"In the context of the document provided, the role of GitHub Actions workflow code in the setup of a DevOps self-service pipeline is to automate the continuous integration and deployment processes. GitHub Actions enable developers to create custom software development life cycle (SDLC) workflows directly in their GitHub repositories. The workflow YAML files define the actions that should be taken when certain events occur within the repository, such as pushing new code or creating a pull request.\\n\\nThese workflows can perform a wide range of tasks, from simple to complex, such as running tests, building and packaging code, deploying applications to various environments, and provisioning infrastructure. In the case of the DevOps self-service pipeline described, GitHub Actions can be used to trigger the infrastructure pipeline, which is managed by Infrastructure as Code (IaC) with Terraform. This allows for the automated provisioning of cloud resources, such as services in AWS, as part of the pipeline's execution.\\n\\nThe workflow YAML files should be located in the `.github/workflows` directory at the root of the application repository. This location is a standard convention for GitHub repositories, and it is where GitHub Actions expects to find the workflow definitions to execute them accordingly. By placing the YAML files in this directory, developers ensure that GitHub Actions can recognize and run the workflows as part of the DevOps processes integrated into the repository.\",\n",
            "    \"8071ada7-6b51-45fd-a906-e87d2d90ab77\": \"In the DevOps Self-Service Pipeline Architecture, as described in the document \\\"DevOps_Self-Service_Pipeline_Architecture.pdf,\\\" Terraform reusable modules play a crucial role in enabling a more efficient and standardized way of managing infrastructure as code (IaC). These modules are essentially pre-written code blocks that define a specific piece of infrastructure in a way that allows them to be reused across different projects or components within an organization.\\n\\nThe use of Terraform reusable modules helps to ensure consistency, reduce duplication of effort, and speed up the development process by allowing teams to leverage common infrastructure patterns without having to write them from scratch each time. This modularity also makes it easier to maintain and update infrastructure, as changes can be made in a single module and then propagated across all the instances where that module is used.\\n\\nAccording to the document, the Terraform reusable modules are kept in a centralized repository. This centralization is significant because it allows for better governance, version control, and collaboration among teams who are using and contributing to the modules. By having a single source of truth for these modules, the organization can ensure that best practices are followed and that any updates to the modules are made available to all teams that depend on them.\\n\\nThe document does not specify the exact location or platform hosting the centralized repository for the Terraform reusable modules, but it implies that this repository is separate from individual project repositories where the Terraform code for specific infrastructure deployments would be stored.\",\n",
            "    \"fd7f0b58-a742-42ba-8cef-3b64ccd788e3\": \"The document mentions two types of pipelines within the context of GitHub Actions, each serving a distinct purpose and initiated by different GitHub Actions workflows:\\n\\n1. Infrastructure Pipeline:\\n   - Primary Function: The infrastructure pipeline is responsible for provisioning and managing cloud resources. It uses Infrastructure as Code (IaC) practices, specifically with Terraform, to create, update, and maintain infrastructure in a consistent and repeatable manner.\\n   - Tools Used: Terraform is the primary tool mentioned for the infrastructure pipeline. It is chosen for its cloud-agnostic capabilities and open-source nature, allowing it to work across different cloud providers like AWS, Azure, and Google Cloud Platform.\\n   - GitHub Actions Integration: A GitHub Actions workflow specific to Terraform is used to trigger the infrastructure pipeline. This workflow is likely defined in a YAML file within the `.github/workflows` directory of the repository and is executed when certain conditions or events occur, such as a push to a specific branch or a pull request.\\n\\n2. Application Pipelines:\\n   - Primary Function: Application pipelines are focused on the continuous integration and continuous delivery (CI/CD) of the application's source code. They automate the process of building, testing, and deploying the application to ensure that new code changes are integrated smoothly and released to production environments.\\n   - Tools Used: While the document does not specify the exact tools used for application pipelines, it implies that the source code could be in various programming languages like Java, Node.js, or Python. The CI/CD process would involve tools and services that are compatible with these languages and the application's runtime environment.\\n   - GitHub Actions Integration: Application pipelines are also initiated by GitHub Actions workflows. These workflows are defined in the `.github/workflows` directory and are responsible for executing the steps of the CI/CD process, such as running tests, building the application, and deploying it to the target environment.\\n\\nIn summary, the infrastructure pipeline, initiated by a Terraform GitHub Actions workflow, is used for managing cloud resources, while the application pipelines, initiated by language or framework-specific GitHub Actions workflows, are used for the CI/CD of the application's code.\",\n",
            "    \"1902cf39-c01e-4697-adc2-1de59fc2bf8a\": \"Terraform reusable modules are a key component in creating a DevOps Self-Service Centric Terraform Project Structure, as they offer several significant benefits:\\n\\n1. **Modularity**: By using modules, Terraform allows you to break down your infrastructure into manageable, reusable pieces. This modularity makes it easier to understand, maintain, and scale your infrastructure codebase.\\n\\n2. **Reusability**: Reusable modules can be shared across different projects or within different parts of the same project. This means you can write the code once and use it in multiple scenarios, which saves time and effort and ensures consistency across your infrastructure.\\n\\n3. **Best Practices**: Encapsulating common patterns and practices into modules means that you can ensure that best practices are followed throughout your infrastructure. When a module is updated with improvements, all the projects that use that module can benefit from the update.\\n\\n4. **Versioning**: Modules can be versioned, which allows you to control the updates to your infrastructure. You can pin specific versions of a module to different environments (e.g., development, staging, production) to manage changes and reduce the risk of introducing breaking changes.\\n\\n5. **Collaboration**: Reusable modules encourage collaboration among team members. Developers can contribute to a shared library of modules, which can then be used by others to assemble custom infrastructure without needing to write everything from scratch.\\n\\n6. **Efficiency**: With reusable modules, you can create a self-service infrastructure platform where development teams can quickly provision the resources they need by using predefined modules. This reduces the bottleneck of having a centralized team managing all infrastructure requests.\\n\\n7. **Standardization**: Modules help enforce standardization across an organization's infrastructure, which is crucial for compliance, security, and reliability. Standardized modules ensure that resources are provisioned in a consistent manner, adhering to the organization's policies.\\n\\nIn the context of the DevOps Self-Service Centric Terraform Project Structure, these reusable modules are likely to be a cornerstone, enabling teams to efficiently manage and deploy infrastructure as code (IaC) in a way that is both scalable and maintainable. The document suggests that the project structure is designed to facilitate self-service capabilities, likely by allowing developers to easily incorporate these modules into their workflows, thus streamlining the process of infrastructure provisioning and management.\",\n",
            "    \"e7b4aa3e-e93d-4334-8682-cac3b5eb0329\": \"In the context of a DevOps Self-Service Pipeline Architecture, the differences between an Infrastructure pipeline and an Application pipeline are primarily in their focus and the types of tasks they perform.\\n\\nInfrastructure Pipeline:\\n- Focus: The infrastructure pipeline is concerned with provisioning and managing the cloud resources needed for the application to run. This includes creating, updating, and deleting infrastructure components such as servers, databases, networks, and other cloud services.\\n- Tools: It typically uses Infrastructure as Code (IaC) tools, with Terraform being a popular choice due to its cloud-agnostic and open-source nature.\\n- Workflow: A GitHub Actions Terraform workflow would be used to trigger the infrastructure pipeline. The workflow would contain steps to execute Terraform scripts that define the cloud resources.\\n- Example Usage: An infrastructure pipeline would be utilized when setting up a new environment (like staging or production), scaling existing infrastructure, or making changes to the configuration of cloud services.\\n\\nApplication Pipeline:\\n- Focus: The application pipeline is focused on the application code itself. It handles the continuous integration and continuous delivery (CI/CD) processes, including building the application, running tests, scanning for vulnerabilities, and deploying the application to the cloud environment.\\n- Tools: This pipeline uses tools that support CI/CD practices, and in this context, GitHub Actions workflows are used to define the steps for building and deploying the application.\\n- Workflow: The GitHub Actions workflow code for application pipelines would be located in the `.github/workflows` directory at the root of the application's repository. It would include steps to compile the code, run tests, package the application, and deploy it to the provisioned infrastructure.\\n- Example Usage: An application pipeline would be used every time there is a new commit to the application's source code repository. It ensures that the latest code changes are automatically built, tested, and deployed to the appropriate environment.\\n\\nIn summary, the infrastructure pipeline is used to manage the cloud resources needed for the application, while the application pipeline manages the application's lifecycle from code commit to deployment. Both pipelines are essential for a DevOps Self-Service Pipeline Architecture, enabling teams to automate and streamline the deployment and management of both the infrastructure and the application in a cloud environment.\",\n",
            "    \"5272478f-ad26-478c-ab56-18041c4dfacd\": \"According to the information provided from the \\\"DevOps_Self-Service_Pipeline_Architecture.pdf\\\" document, Terraform can be utilized to automate the integration of infrastructure pipelines with application pipelines in a DevOps environment through the following process:\\n\\n1. **Infrastructure Provisioning**: When the infrastructure pipeline runs, it uses Terraform to provision the required infrastructure. This could include cloud resources such as servers, databases, storage, networking components, and more.\\n\\n2. **Secrets Creation**: Upon successful provisioning of the infrastructure, Terraform can then be used to automate the creation of GitHub secrets. These secrets might contain sensitive information such as API keys, credentials, or configuration details that are necessary for the application pipeline to interact with the infrastructure.\\n\\n3. **GitHub Provider**: Terraform makes use of the GitHub provider to call GitHub's API for the creation of these secrets. The GitHub provider is a plugin for Terraform that allows it to manage GitHub resources.\\n\\n4. **Automatic Insertion**: The Terraform outputs, which include the secrets, are automatically inserted into GitHub. This is indicated by the double-ended arrows for the infrastructure pipeline in the diagram referenced in the document. This step eliminates the need for manual intervention in the secrets creation process.\\n\\n5. **CI/CD Trigger**: With the secrets now in place within the GitHub environment, application pipelines can automatically trigger Continuous Integration/Continuous Deployment (CI/CD) processes. These pipelines have access to the secrets associated with the specific GitHub environment that Terraform provided.\\n\\n6. **Seamless Integration**: This automation and integration process ensures that the infrastructure and application pipelines work together seamlessly. The infrastructure pipeline sets up the environment and provides the necessary secrets, while the application pipeline uses those secrets to deploy and run the application in the environment that was provisioned.\\n\\nThis approach results in an end-to-end, state-of-the-art integration of infrastructure and application pipelines, enhancing the efficiency and security of the DevOps workflow. The document also hints at future discussions on project structures for Terraform, its reusable modules, and the orchestration of GitHub Actions workflows, which are likely to provide further details on the implementation of this integration.\",\n",
            "    \"fb600348-7f5c-4e73-8c5e-29b99ccc7981\": \"Based on the high-level design mentioned in the document, the significance of the double-ended arrows for the infrastructure pipeline in the diagram likely represents a bidirectional interaction between the infrastructure pipeline and GitHub. This interaction pertains to the automation of GitHub secrets creation. When the infrastructure pipeline, managed by Terraform, successfully provisions the necessary infrastructure, it then proceeds to automate the creation of GitHub secrets by calling the GitHub provider.\\n\\nThe automation process involves Terraform generating outputs, which are the secrets needed by the application pipelines. These secrets are then automatically inserted into GitHub, as indicated by the double-ended arrows, which symbolize the flow of information both to and from the infrastructure pipeline and GitHub. This automation eliminates the need for manual secrets creation, thereby streamlining the process.\\n\\nBy having Terraform handle the automatic insertion of secrets into GitHub, application pipelines can seamlessly initiate Continuous Integration/Continuous Deployment (CI/CD) processes for the specified GitHub environment. The secrets associated with that particular GitHub environment are provided by Terraform through the infrastructure pipeline, ensuring that the application pipelines have the necessary credentials and configurations to operate correctly within the environment.\\n\\nIn summary, the double-ended arrows in the diagram represent the seamless integration and automated exchange of secrets between the infrastructure pipeline and GitHub, which is crucial for the end-to-end integration of infrastructure and application pipelines in a DevOps context.\",\n",
            "    \"6fd6b9aa-0f27-4e87-acf9-dfe90844dd43\": \"In the context of the DevOps Self-Service Pipeline Architecture described in the document \\\"DevOps_Self-Service_Pipeline_Architecture.pdf,\\\" Terraform plays a crucial role in automating the creation of GitHub secrets. The process works as follows:\\n\\n1. **Integration of Pipelines**: The document mentions the need for a \\\"glue\\\" to integrate two types of pipelines within the architecture. These pipelines are likely related to infrastructure provisioning and application deployment.\\n\\n2. **Infrastructure Provisioning**: Upon successful provisioning of infrastructure, which is presumably managed by Terraform, the next step is to automate the creation of GitHub secrets.\\n\\n3. **Terraform's GitHub Provider**: Terraform can interact with GitHub through its GitHub provider. This provider allows Terraform to create, read, update, and delete resources on GitHub, including secrets.\\n\\n4. **Automated Secrets Insertion**: As part of the infrastructure pipeline, Terraform can automatically insert the necessary secrets into GitHub. This is indicated by the double-ended arrows in the diagram, which suggest a two-way interaction between Terraform and GitHub.\\n\\n5. **Elimination of Manual Processes**: By automating the creation and insertion of secrets, the architecture eliminates the need for manual secrets creation. This streamlines the process and reduces the potential for human error.\\n\\n6. **Enabling CI/CD**: With the secrets in place, application pipelines can automatically trigger Continuous Integration/Continuous Deployment (CI/CD) processes for the specified GitHub environment. The secrets are associated with the particular GitHub environment and are provided by Terraform through the infrastructure pipeline.\\n\\n7. **End-to-End Integration**: The automation of GitHub secrets creation by Terraform is a key component in achieving an end-to-end, state-of-the-art integration of infrastructure and application pipelines within the DevOps Self-Service Pipeline Architecture.\\n\\nIn summary, Terraform's role in this architecture is to automate the creation and management of GitHub secrets as part of the infrastructure provisioning process, thereby facilitating a seamless and secure integration between infrastructure and application deployment pipelines.\",\n",
            "    \"72aee458-28f4-4661-bf10-f7fde986b1e8\": \"Based on the high-level design mentioned in the document, the significance of the double-ended arrows for the infrastructure pipeline in the diagram likely represents a two-way interaction or exchange of information between the infrastructure pipeline and GitHub. This interaction pertains to the automation of GitHub secrets creation, which is a crucial part of integrating infrastructure and application pipelines.\\n\\nThe double-ended arrows suggest that once the infrastructure is provisioned using Terraform, it not only outputs information but also communicates back with GitHub to automate the creation of secrets. Terraform, through the use of a GitHub provider, can call GitHub's API to create or update secrets that are necessary for the application pipelines to function securely.\\n\\nThis integration is significant because it eliminates the need for manual intervention in the secrets creation process, thereby enhancing security and efficiency. Application pipelines can then automatically kick off Continuous Integration/Continuous Deployment (CI/CD) processes for the specified GitHub environment, using the secrets that were automatically provided by Terraform through the infrastructure pipeline.\\n\\nIn summary, the double-ended arrows symbolize the seamless and automated flow of secret credentials from the infrastructure provisioning process to the GitHub environment, which is essential for the secure and automated operation of application pipelines. This represents the state-of-the-art integration of infrastructure and application pipelines as described in the document.\"\n",
            "  }\n",
            "}\n"
          ]
        }
      ],
      "source": [
        "import json\n",
        "\n",
        "# Load dataset from JSON file\n",
        "with open(\"data_eval/eval_qr_dataset.json\", \"r\") as file:\n",
        "    eval_dataset_content = json.load(file)\n",
        "\n",
        "# Print the content in JSON format\n",
        "json_str = json.dumps(eval_dataset_content, indent=2)  # indent for pretty printing\n",
        "print(json_str)"
      ]
    },
    {
      "cell_type": "code",
      "execution_count": 11,
      "metadata": {
        "colab": {
          "base_uri": "https://localhost:8080/"
        },
        "id": "H_PYbjBX3-DT",
        "outputId": "cedc51a2-58ad-463a-bcea-70c8070db19a"
      },
      "outputs": [],
      "source": [
        "eval_qs = eval_dataset.questions\n",
        "ref_response_strs = [r for (_, r) in eval_dataset.qr_pairs]"
      ]
    },
    {
      "cell_type": "markdown",
      "metadata": {
        "id": "HWGMywfdMNuK"
      },
      "source": [
        "## Build index, query engine, gather parameters"
      ]
    },
    {
      "cell_type": "code",
      "execution_count": 12,
      "metadata": {
        "id": "PGPxKsv3zejY"
      },
      "outputs": [],
      "source": [
        "from llama_index import (\n",
        "    VectorStoreIndex,\n",
        "    load_index_from_storage,\n",
        "    StorageContext,\n",
        "    ServiceContext,\n",
        ")\n",
        "from llama_index.param_tuner.base import ParamTuner, TunedResult, RunResult\n",
        "from llama_index.evaluation.eval_utils import get_responses\n",
        "from llama_index.evaluation import SemanticSimilarityEvaluator, BatchEvalRunner\n",
        "\n",
        "import os\n",
        "import numpy as np\n",
        "from pathlib import Path\n",
        "\n",
        "def _build_index(chunk_size, docs):\n",
        "    index_out_path = f\"./storage_{chunk_size}\"\n",
        "    if not os.path.exists(index_out_path):\n",
        "        Path(index_out_path).mkdir(parents=True, exist_ok=True)\n",
        "\n",
        "        # Using the new flattened interface for node parsing\n",
        "        node_parser = SentenceSplitter(chunk_size=chunk_size)\n",
        "        nodes = node_parser(docs)\n",
        "\n",
        "        # build index\n",
        "        index = VectorStoreIndex(nodes)\n",
        "\n",
        "        # save index to disk\n",
        "        index.storage_context.persist(index_out_path)\n",
        "    else:\n",
        "        # rebuild storage context\n",
        "        storage_context = StorageContext.from_defaults(\n",
        "            persist_dir=index_out_path\n",
        "        )\n",
        "        # load index\n",
        "        index = load_index_from_storage(\n",
        "            storage_context,\n",
        "        )\n",
        "    return index"
      ]
    },
    {
      "cell_type": "code",
      "execution_count": 13,
      "metadata": {
        "id": "RDao69O8zUES"
      },
      "outputs": [],
      "source": [
        "# contains the parameters that need to be tuned\n",
        "param_dict = {\"chunk_size\": [256, 512], \"top_k\": [1, 2]}\n",
        "\n",
        "# contains parameters remaining fixed across all runs of the tuning process\n",
        "fixed_param_dict = {\n",
        "    \"docs\": documents,\n",
        "    \"eval_qs\": eval_qs,\n",
        "    \"ref_response_strs\": ref_response_strs,\n",
        "}"
      ]
    },
    {
      "cell_type": "markdown",
      "metadata": {
        "id": "PT9B38SvWRVd"
      },
      "source": [
        "## Define EDD to measure the score for each parameter combination"
      ]
    },
    {
      "cell_type": "code",
      "execution_count": 14,
      "metadata": {
        "id": "l9g1p2ZWzZJG"
      },
      "outputs": [],
      "source": [
        "def _get_eval_batch_runner_semantic_similarity():\n",
        "    eval_service_context = ServiceContext.from_defaults(\n",
        "        llm=OpenAI(model=\"gpt-4-1106-preview\")\n",
        "    )\n",
        "    evaluator_s = SemanticSimilarityEvaluator(\n",
        "        service_context=eval_service_context\n",
        "    )\n",
        "    eval_batch_runner = BatchEvalRunner(\n",
        "        {\"semantic_similarity\": evaluator_s}, workers=2, show_progress=True\n",
        "    )\n",
        "\n",
        "    return eval_batch_runner\n",
        "\n",
        "\n",
        "def objective_function_semantic_similarity(params_dict):\n",
        "    chunk_size = params_dict[\"chunk_size\"]\n",
        "    docs = params_dict[\"docs\"]\n",
        "    top_k = params_dict[\"top_k\"]\n",
        "    eval_qs = params_dict[\"eval_qs\"]\n",
        "    ref_response_strs = params_dict[\"ref_response_strs\"]\n",
        "\n",
        "    # build index\n",
        "    index = _build_index(chunk_size, docs)\n",
        "\n",
        "    # query engine\n",
        "    query_engine = index.as_query_engine(similarity_top_k=top_k)\n",
        "\n",
        "    # get predicted responses\n",
        "    pred_response_objs = get_responses(\n",
        "        eval_qs, query_engine, show_progress=True\n",
        "    )\n",
        "\n",
        "    # run evaluator\n",
        "    eval_batch_runner = _get_eval_batch_runner_semantic_similarity()\n",
        "    eval_results = eval_batch_runner.evaluate_responses(\n",
        "        eval_qs, responses=pred_response_objs, reference=ref_response_strs\n",
        "    )\n",
        "\n",
        "    # get semantic similarity metric\n",
        "    mean_score = np.array(\n",
        "        [r.score for r in eval_results[\"semantic_similarity\"]]\n",
        "    ).mean()\n",
        "\n",
        "    return RunResult(score=mean_score, params=params_dict)"
      ]
    },
    {
      "cell_type": "markdown",
      "metadata": {
        "id": "qKyvEZ7fy8wJ"
      },
      "source": [
        "## Run Parameter Tuner"
      ]
    },
    {
      "cell_type": "code",
      "execution_count": 15,
      "metadata": {
        "colab": {
          "base_uri": "https://localhost:8080/",
          "height": 1000,
          "referenced_widgets": [
            "1e8a19d13b6d4ef7a38ee6dca7beab77",
            "1292ec6b17254900a7f1559c94b00c80",
            "b79ecaf9323043c3a0e57f580e15efe1",
            "70de8051480e4f3c91fc5dd4dad47c4b",
            "f7d9c2c72ff047db831fa7d1ec5eea30",
            "69f77cdfcae7403797ced1d19950c5e5",
            "7f1826f4214f44db9d1ef47646b7d717",
            "43ce2f7a1cfd4512b9f01e7390acc19c",
            "0c969ed6511641488557f4600dd74109",
            "3414720e651e445fbc958c7f640b6c99",
            "2137bd4eac2649b9863807f847c7b988"
          ]
        },
        "id": "rYHoIJgQy7tO",
        "outputId": "11201579-480a-4fa9-f541-ff2615aa3bf2"
      },
      "outputs": [
        {
          "name": "stderr",
          "output_type": "stream",
          "text": [
            "c:\\llamaindex\\llamaindex-samples\\llamaindex\\lib\\site-packages\\tqdm\\auto.py:21: TqdmWarning: IProgress not found. Please update jupyter and ipywidgets. See https://ipywidgets.readthedocs.io/en/stable/user_install.html\n",
            "  from .autonotebook import tqdm as notebook_tqdm\n",
            "Param combinations.:   0%|          | 0/4 [00:00<?, ?it/s]"
          ]
        },
        {
          "name": "stderr",
          "output_type": "stream",
          "text": [
            "100%|██████████| 16/16 [00:03<00:00,  4.35it/s]\n",
            "100%|██████████| 16/16 [00:05<00:00,  2.87it/s]\n",
            "100%|██████████| 16/16 [00:04<00:00,  3.62it/s]0<00:31, 10.55s/it]\n",
            "100%|██████████| 16/16 [00:05<00:00,  2.93it/s]\n",
            "100%|██████████| 16/16 [00:03<00:00,  4.69it/s]1<00:21, 10.73s/it]\n",
            "100%|██████████| 16/16 [00:05<00:00,  2.78it/s]\n",
            "100%|██████████| 16/16 [00:04<00:00,  3.87it/s]0<00:10, 10.08s/it]\n",
            "100%|██████████| 16/16 [00:05<00:00,  2.96it/s]\n",
            "Param combinations.: 100%|██████████| 4/4 [00:40<00:00, 10.08s/it]"
          ]
        },
        {
          "name": "stdout",
          "output_type": "stream",
          "text": [
            "\n",
            "Semantic Similarity Score: 0.9582030574690956\n",
            "Top-k: 2\n",
            "Chunk size: 256\n"
          ]
        },
        {
          "name": "stderr",
          "output_type": "stream",
          "text": [
            "\n"
          ]
        }
      ],
      "source": [
        "from llama_index.param_tuner import ParamTuner\n",
        "\n",
        "param_tuner = ParamTuner(\n",
        "    param_fn=objective_function_semantic_similarity,\n",
        "    param_dict=param_dict,\n",
        "    fixed_param_dict=fixed_param_dict,\n",
        "    show_progress=True,\n",
        ")\n",
        "\n",
        "results = param_tuner.tune()\n",
        "\n",
        "best_result = results.best_run_result\n",
        "best_top_k = results.best_run_result.params[\"top_k\"]\n",
        "best_chunk_size = results.best_run_result.params[\"chunk_size\"]\n",
        "\n",
        "print(\"\")\n",
        "print(f\"Semantic Similarity Score: {best_result.score}\")\n",
        "print(f\"Top-k: {best_top_k}\")\n",
        "print(f\"Chunk size: {best_chunk_size}\")"
      ]
    },
    {
      "cell_type": "code",
      "execution_count": 16,
      "metadata": {
        "colab": {
          "base_uri": "https://localhost:8080/",
          "height": 660
        },
        "id": "vEg5Dz4R0P_f",
        "outputId": "5630f2ec-9a99-4498-8fc7-9a47383dbffc"
      },
      "outputs": [
        {
          "name": "stdout",
          "output_type": "stream",
          "text": [
            "Score: 0.9582030574690956, Top_k: 2, Chunk_size: 256\n",
            "Score: 0.9580475137577094, Top_k: 2, Chunk_size: 512\n",
            "Score: 0.9576506629216948, Top_k: 1, Chunk_size: 256\n",
            "Score: 0.9546194535263497, Top_k: 1, Chunk_size: 512\n"
          ]
        },
        {
          "data": {
            "image/png": "[encoded data removed]",
            "text/plain": [
              "<Figure size 640x480 with 1 Axes>"
            ]
          },
          "metadata": {},
          "output_type": "display_data"
        }
      ],
      "source": [
        "import matplotlib.pyplot as plt\n",
        "\n",
        "# use the following lists to store data\n",
        "scores = []\n",
        "top_k_chunk_combos = []\n",
        "\n",
        "for result in results.run_results:\n",
        "    p = result.params\n",
        "    score = result.score\n",
        "    top_k = p[\"top_k\"]\n",
        "    chunk_size = p[\"chunk_size\"]\n",
        "\n",
        "    # Combine top_k and chunk_size for x-axis label\n",
        "    top_k_chunk_combo = f\"{top_k}_{chunk_size}\"\n",
        "\n",
        "    # Append values to the lists\n",
        "    scores.append(score)\n",
        "    top_k_chunk_combos.append(top_k_chunk_combo)\n",
        "\n",
        "    print(f\"Score: {score}, Top_k: {top_k}, Chunk_size: {chunk_size}\")\n",
        "\n",
        "# Create a line chart\n",
        "plt.plot(top_k_chunk_combos, scores, marker='o', linestyle='-')\n",
        "plt.xlabel('Top_k and Chunk_size')\n",
        "plt.ylabel('Score')\n",
        "plt.title('Score vs Top_k and Chunk_size')\n",
        "plt.xticks(rotation=45, ha=\"right\")  # Rotate x-axis labels for better visibility\n",
        "plt.show()\n"
      ]
    },
    {
      "cell_type": "code",
      "execution_count": 17,
      "metadata": {
        "colab": {
          "base_uri": "https://localhost:8080/",
          "height": 660
        },
        "id": "e4rDtVIB1pxa",
        "outputId": "4d35ba84-000c-4d5b-c9cc-39a76556020e"
      },
      "outputs": [
        {
          "name": "stdout",
          "output_type": "stream",
          "text": [
            "Score: 0.9582030574690956, Top_k: 2, Chunk_size: 256\n",
            "Score: 0.9580475137577094, Top_k: 2, Chunk_size: 512\n",
            "Score: 0.9576506629216948, Top_k: 1, Chunk_size: 256\n",
            "Score: 0.9546194535263497, Top_k: 1, Chunk_size: 512\n"
          ]
        },
        {
          "data": {
            "image/png": "[encoded data removed]",
            "text/plain": [
              "<Figure size 640x480 with 1 Axes>"
            ]
          },
          "metadata": {},
          "output_type": "display_data"
        }
      ],
      "source": [
        "import matplotlib.pyplot as plt\n",
        "import numpy as np\n",
        "\n",
        "# use the following lists to store data\n",
        "scores = []\n",
        "top_k_chunk_combos = []\n",
        "\n",
        "for result in results.run_results:\n",
        "    p = result.params\n",
        "    score = result.score\n",
        "    top_k = p[\"top_k\"]\n",
        "    chunk_size = p[\"chunk_size\"]\n",
        "\n",
        "    # Combine top_k and chunk_size for x-axis label\n",
        "    top_k_chunk_combo = f\"{top_k}_{chunk_size}\"\n",
        "\n",
        "    # Append values to the lists\n",
        "    scores.append(score)\n",
        "    top_k_chunk_combos.append(top_k_chunk_combo)\n",
        "\n",
        "    print(f\"Score: {score}, Top_k: {top_k}, Chunk_size: {chunk_size}\")\n",
        "\n",
        "# Create a bar chart with log scale for the y-axis\n",
        "plt.bar(top_k_chunk_combos, scores, align='center', alpha=0.7)\n",
        "plt.yscale('log')  # Set log scale for the y-axis\n",
        "plt.xlabel('Top_k and Chunk_size')\n",
        "plt.ylabel('Score (log scale)')\n",
        "plt.title('Score vs Top_k and Chunk_size')\n",
        "plt.xticks(rotation=45, ha=\"right\")  # Rotate x-axis labels for better visibility\n",
        "plt.show()\n"
      ]
    }
  ],
  "metadata": {
    "accelerator": "GPU",
    "colab": {
      "gpuType": "T4",
      "machine_shape": "hm",
      "provenance": []
    },
    "kernelspec": {
      "display_name": "Python 3",
      "name": "python3"
    },
    "language_info": {
      "codemirror_mode": {
        "name": "ipython",
        "version": 3
      },
      "file_extension": ".py",
      "mimetype": "text/x-python",
      "name": "python",
      "nbconvert_exporter": "python",
      "pygments_lexer": "ipython3",
      "version": "3.9.13"
    },
    "widgets": {
      "application/vnd.jupyter.widget-state+json": {
        "0c969ed6511641488557f4600dd74109": {
          "model_module": "@jupyter-widgets/controls",
          "model_module_version": "1.5.0",
          "model_name": "ProgressStyleModel",
          "state": {
            "_model_module": "@jupyter-widgets/controls",
            "_model_module_version": "1.5.0",
            "_model_name": "ProgressStyleModel",
            "_view_count": null,
            "_view_module": "@jupyter-widgets/base",
            "_view_module_version": "1.2.0",
            "_view_name": "StyleView",
            "bar_color": null,
            "description_width": ""
          }
        },
        "1292ec6b17254900a7f1559c94b00c80": {
          "model_module": "@jupyter-widgets/controls",
          "model_module_version": "1.5.0",
          "model_name": "HTMLModel",
          "state": {
            "_dom_classes": [],
            "_model_module": "@jupyter-widgets/controls",
            "_model_module_version": "1.5.0",
            "_model_name": "HTMLModel",
            "_view_count": null,
            "_view_module": "@jupyter-widgets/controls",
            "_view_module_version": "1.5.0",
            "_view_name": "HTMLView",
            "description": "",
            "description_tooltip": null,
            "layout": "IPY_MODEL_69f77cdfcae7403797ced1d19950c5e5",
            "placeholder": "​",
            "style": "IPY_MODEL_7f1826f4214f44db9d1ef47646b7d717",
            "value": "Param combinations.: 100%"
          }
        },
        "1e8a19d13b6d4ef7a38ee6dca7beab77": {
          "model_module": "@jupyter-widgets/controls",
          "model_module_version": "1.5.0",
          "model_name": "HBoxModel",
          "state": {
            "_dom_classes": [],
            "_model_module": "@jupyter-widgets/controls",
            "_model_module_version": "1.5.0",
            "_model_name": "HBoxModel",
            "_view_count": null,
            "_view_module": "@jupyter-widgets/controls",
            "_view_module_version": "1.5.0",
            "_view_name": "HBoxView",
            "box_style": "",
            "children": [
              "IPY_MODEL_1292ec6b17254900a7f1559c94b00c80",
              "IPY_MODEL_b79ecaf9323043c3a0e57f580e15efe1",
              "IPY_MODEL_70de8051480e4f3c91fc5dd4dad47c4b"
            ],
            "layout": "IPY_MODEL_f7d9c2c72ff047db831fa7d1ec5eea30"
          }
        },
        "2137bd4eac2649b9863807f847c7b988": {
          "model_module": "@jupyter-widgets/controls",
          "model_module_version": "1.5.0",
          "model_name": "DescriptionStyleModel",
          "state": {
            "_model_module": "@jupyter-widgets/controls",
            "_model_module_version": "1.5.0",
            "_model_name": "DescriptionStyleModel",
            "_view_count": null,
            "_view_module": "@jupyter-widgets/base",
            "_view_module_version": "1.2.0",
            "_view_name": "StyleView",
            "description_width": ""
          }
        },
        "3414720e651e445fbc958c7f640b6c99": {
          "model_module": "@jupyter-widgets/base",
          "model_module_version": "1.2.0",
          "model_name": "LayoutModel",
          "state": {
            "_model_module": "@jupyter-widgets/base",
            "_model_module_version": "1.2.0",
            "_model_name": "LayoutModel",
            "_view_count": null,
            "_view_module": "@jupyter-widgets/base",
            "_view_module_version": "1.2.0",
            "_view_name": "LayoutView",
            "align_content": null,
            "align_items": null,
            "align_self": null,
            "border": null,
            "bottom": null,
            "display": null,
            "flex": null,
            "flex_flow": null,
            "grid_area": null,
            "grid_auto_columns": null,
            "grid_auto_flow": null,
            "grid_auto_rows": null,
            "grid_column": null,
            "grid_gap": null,
            "grid_row": null,
            "grid_template_areas": null,
            "grid_template_columns": null,
            "grid_template_rows": null,
            "height": null,
            "justify_content": null,
            "justify_items": null,
            "left": null,
            "margin": null,
            "max_height": null,
            "max_width": null,
            "min_height": null,
            "min_width": null,
            "object_fit": null,
            "object_position": null,
            "order": null,
            "overflow": null,
            "overflow_x": null,
            "overflow_y": null,
            "padding": null,
            "right": null,
            "top": null,
            "visibility": null,
            "width": null
          }
        },
        "43ce2f7a1cfd4512b9f01e7390acc19c": {
          "model_module": "@jupyter-widgets/base",
          "model_module_version": "1.2.0",
          "model_name": "LayoutModel",
          "state": {
            "_model_module": "@jupyter-widgets/base",
            "_model_module_version": "1.2.0",
            "_model_name": "LayoutModel",
            "_view_count": null,
            "_view_module": "@jupyter-widgets/base",
            "_view_module_version": "1.2.0",
            "_view_name": "LayoutView",
            "align_content": null,
            "align_items": null,
            "align_self": null,
            "border": null,
            "bottom": null,
            "display": null,
            "flex": null,
            "flex_flow": null,
            "grid_area": null,
            "grid_auto_columns": null,
            "grid_auto_flow": null,
            "grid_auto_rows": null,
            "grid_column": null,
            "grid_gap": null,
            "grid_row": null,
            "grid_template_areas": null,
            "grid_template_columns": null,
            "grid_template_rows": null,
            "height": null,
            "justify_content": null,
            "justify_items": null,
            "left": null,
            "margin": null,
            "max_height": null,
            "max_width": null,
            "min_height": null,
            "min_width": null,
            "object_fit": null,
            "object_position": null,
            "order": null,
            "overflow": null,
            "overflow_x": null,
            "overflow_y": null,
            "padding": null,
            "right": null,
            "top": null,
            "visibility": null,
            "width": null
          }
        },
        "69f77cdfcae7403797ced1d19950c5e5": {
          "model_module": "@jupyter-widgets/base",
          "model_module_version": "1.2.0",
          "model_name": "LayoutModel",
          "state": {
            "_model_module": "@jupyter-widgets/base",
            "_model_module_version": "1.2.0",
            "_model_name": "LayoutModel",
            "_view_count": null,
            "_view_module": "@jupyter-widgets/base",
            "_view_module_version": "1.2.0",
            "_view_name": "LayoutView",
            "align_content": null,
            "align_items": null,
            "align_self": null,
            "border": null,
            "bottom": null,
            "display": null,
            "flex": null,
            "flex_flow": null,
            "grid_area": null,
            "grid_auto_columns": null,
            "grid_auto_flow": null,
            "grid_auto_rows": null,
            "grid_column": null,
            "grid_gap": null,
            "grid_row": null,
            "grid_template_areas": null,
            "grid_template_columns": null,
            "grid_template_rows": null,
            "height": null,
            "justify_content": null,
            "justify_items": null,
            "left": null,
            "margin": null,
            "max_height": null,
            "max_width": null,
            "min_height": null,
            "min_width": null,
            "object_fit": null,
            "object_position": null,
            "order": null,
            "overflow": null,
            "overflow_x": null,
            "overflow_y": null,
            "padding": null,
            "right": null,
            "top": null,
            "visibility": null,
            "width": null
          }
        },
        "70de8051480e4f3c91fc5dd4dad47c4b": {
          "model_module": "@jupyter-widgets/controls",
          "model_module_version": "1.5.0",
          "model_name": "HTMLModel",
          "state": {
            "_dom_classes": [],
            "_model_module": "@jupyter-widgets/controls",
            "_model_module_version": "1.5.0",
            "_model_name": "HTMLModel",
            "_view_count": null,
            "_view_module": "@jupyter-widgets/controls",
            "_view_module_version": "1.5.0",
            "_view_name": "HTMLView",
            "description": "",
            "description_tooltip": null,
            "layout": "IPY_MODEL_3414720e651e445fbc958c7f640b6c99",
            "placeholder": "​",
            "style": "IPY_MODEL_2137bd4eac2649b9863807f847c7b988",
            "value": " 9/9 [01:41&lt;00:00, 11.46s/it]"
          }
        },
        "7f1826f4214f44db9d1ef47646b7d717": {
          "model_module": "@jupyter-widgets/controls",
          "model_module_version": "1.5.0",
          "model_name": "DescriptionStyleModel",
          "state": {
            "_model_module": "@jupyter-widgets/controls",
            "_model_module_version": "1.5.0",
            "_model_name": "DescriptionStyleModel",
            "_view_count": null,
            "_view_module": "@jupyter-widgets/base",
            "_view_module_version": "1.2.0",
            "_view_name": "StyleView",
            "description_width": ""
          }
        },
        "b79ecaf9323043c3a0e57f580e15efe1": {
          "model_module": "@jupyter-widgets/controls",
          "model_module_version": "1.5.0",
          "model_name": "FloatProgressModel",
          "state": {
            "_dom_classes": [],
            "_model_module": "@jupyter-widgets/controls",
            "_model_module_version": "1.5.0",
            "_model_name": "FloatProgressModel",
            "_view_count": null,
            "_view_module": "@jupyter-widgets/controls",
            "_view_module_version": "1.5.0",
            "_view_name": "ProgressView",
            "bar_style": "success",
            "description": "",
            "description_tooltip": null,
            "layout": "IPY_MODEL_43ce2f7a1cfd4512b9f01e7390acc19c",
            "max": 9,
            "min": 0,
            "orientation": "horizontal",
            "style": "IPY_MODEL_0c969ed6511641488557f4600dd74109",
            "value": 9
          }
        },
        "f7d9c2c72ff047db831fa7d1ec5eea30": {
          "model_module": "@jupyter-widgets/base",
          "model_module_version": "1.2.0",
          "model_name": "LayoutModel",
          "state": {
            "_model_module": "@jupyter-widgets/base",
            "_model_module_version": "1.2.0",
            "_model_name": "LayoutModel",
            "_view_count": null,
            "_view_module": "@jupyter-widgets/base",
            "_view_module_version": "1.2.0",
            "_view_name": "LayoutView",
            "align_content": null,
            "align_items": null,
            "align_self": null,
            "border": null,
            "bottom": null,
            "display": null,
            "flex": null,
            "flex_flow": null,
            "grid_area": null,
            "grid_auto_columns": null,
            "grid_auto_flow": null,
            "grid_auto_rows": null,
            "grid_column": null,
            "grid_gap": null,
            "grid_row": null,
            "grid_template_areas": null,
            "grid_template_columns": null,
            "grid_template_rows": null,
            "height": null,
            "justify_content": null,
            "justify_items": null,
            "left": null,
            "margin": null,
            "max_height": null,
            "max_width": null,
            "min_height": null,
            "min_width": null,
            "object_fit": null,
            "object_position": null,
            "order": null,
            "overflow": null,
            "overflow_x": null,
            "overflow_y": null,
            "padding": null,
            "right": null,
            "top": null,
            "visibility": null,
            "width": null
          }
        }
      }
    }
  },
  "nbformat": 4,
  "nbformat_minor": 0
}
