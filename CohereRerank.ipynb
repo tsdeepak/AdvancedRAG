{
  "cells": [
    {
      "cell_type": "code",
      "execution_count": 6,
      "metadata": {
        "colab": {
          "base_uri": "https://localhost:8080/"
        },
        "id": "OC17Pnvb0IyU",
        "outputId": "c26b9f5e-efab-44ba-81f7-c3e10eaccfbb"
      },
      "outputs": [
        {
          "name": "stdout",
          "output_type": "stream",
          "text": [
            "Collecting llama-index-postprocessor-cohere-rerank\n",
            "  Downloading llama_index_postprocessor_cohere_rerank-0.1.2-py3-none-any.whl (2.7 kB)\n",
            "Collecting cohere<5.0,>=4.45\n",
            "  Downloading cohere-4.56-py3-none-any.whl (52 kB)\n",
            "     ---------------------------------------- 52.7/52.7 KB 2.8 MB/s eta 0:00:00\n",
            "Requirement already satisfied: llama-index-core<0.11.0,>=0.10.1 in .\\llama-10\\lib\\site-packages (from llama-index-postprocessor-cohere-rerank) (0.10.20.post2)\n",
            "Requirement already satisfied: aiohttp<4.0,>=3.0 in .\\llama-10\\lib\\site-packages (from cohere<5.0,>=4.45->llama-index-postprocessor-cohere-rerank) (3.9.3)\n",
            "Collecting importlib_metadata<7.0,>=6.0\n",
            "  Using cached importlib_metadata-6.11.0-py3-none-any.whl (23 kB)\n",
            "Requirement already satisfied: requests<3.0.0,>=2.25.0 in .\\llama-10\\lib\\site-packages (from cohere<5.0,>=4.45->llama-index-postprocessor-cohere-rerank) (2.31.0)\n",
            "Collecting backoff<3.0,>=2.0\n",
            "  Using cached backoff-2.2.1-py3-none-any.whl (15 kB)\n",
            "Requirement already satisfied: urllib3<3,>=1.26 in .\\llama-10\\lib\\site-packages (from cohere<5.0,>=4.45->llama-index-postprocessor-cohere-rerank) (2.2.1)\n",
            "Collecting fastavro<2.0,>=1.8\n",
            "  Downloading fastavro-1.9.4-cp39-cp39-win_amd64.whl (546 kB)\n",
            "     -------------------------------------- 546.3/546.3 KB 8.6 MB/s eta 0:00:00\n",
            "Requirement already satisfied: llamaindex-py-client<0.2.0,>=0.1.13 in .\\llama-10\\lib\\site-packages (from llama-index-core<0.11.0,>=0.10.1->llama-index-postprocessor-cohere-rerank) (0.1.13)\n",
            "Requirement already satisfied: dirtyjson<2.0.0,>=1.0.8 in .\\llama-10\\lib\\site-packages (from llama-index-core<0.11.0,>=0.10.1->llama-index-postprocessor-cohere-rerank) (1.0.8)\n",
            "Requirement already satisfied: nltk<4.0.0,>=3.8.1 in .\\llama-10\\lib\\site-packages (from llama-index-core<0.11.0,>=0.10.1->llama-index-postprocessor-cohere-rerank) (3.8.1)\n",
            "Requirement already satisfied: SQLAlchemy[asyncio]>=1.4.49 in .\\llama-10\\lib\\site-packages (from llama-index-core<0.11.0,>=0.10.1->llama-index-postprocessor-cohere-rerank) (2.0.28)\n",
            "Requirement already satisfied: tiktoken>=0.3.3 in .\\llama-10\\lib\\site-packages (from llama-index-core<0.11.0,>=0.10.1->llama-index-postprocessor-cohere-rerank) (0.6.0)\n",
            "Requirement already satisfied: networkx>=3.0 in .\\llama-10\\lib\\site-packages (from llama-index-core<0.11.0,>=0.10.1->llama-index-postprocessor-cohere-rerank) (3.2.1)\n",
            "Requirement already satisfied: PyYAML>=6.0.1 in .\\llama-10\\lib\\site-packages (from llama-index-core<0.11.0,>=0.10.1->llama-index-postprocessor-cohere-rerank) (6.0.1)\n",
            "Requirement already satisfied: openai>=1.1.0 in .\\llama-10\\lib\\site-packages (from llama-index-core<0.11.0,>=0.10.1->llama-index-postprocessor-cohere-rerank) (1.14.1)\n",
            "Requirement already satisfied: tenacity<9.0.0,>=8.2.0 in .\\llama-10\\lib\\site-packages (from llama-index-core<0.11.0,>=0.10.1->llama-index-postprocessor-cohere-rerank) (8.2.3)\n",
            "Requirement already satisfied: pandas in .\\llama-10\\lib\\site-packages (from llama-index-core<0.11.0,>=0.10.1->llama-index-postprocessor-cohere-rerank) (2.2.1)\n",
            "Requirement already satisfied: nest-asyncio<2.0.0,>=1.5.8 in .\\llama-10\\lib\\site-packages (from llama-index-core<0.11.0,>=0.10.1->llama-index-postprocessor-cohere-rerank) (1.6.0)\n",
            "Requirement already satisfied: numpy in .\\llama-10\\lib\\site-packages (from llama-index-core<0.11.0,>=0.10.1->llama-index-postprocessor-cohere-rerank) (1.26.4)\n",
            "Requirement already satisfied: typing-inspect>=0.8.0 in .\\llama-10\\lib\\site-packages (from llama-index-core<0.11.0,>=0.10.1->llama-index-postprocessor-cohere-rerank) (0.9.0)\n",
            "Requirement already satisfied: httpx in .\\llama-10\\lib\\site-packages (from llama-index-core<0.11.0,>=0.10.1->llama-index-postprocessor-cohere-rerank) (0.27.0)\n",
            "Requirement already satisfied: typing-extensions>=4.5.0 in .\\llama-10\\lib\\site-packages (from llama-index-core<0.11.0,>=0.10.1->llama-index-postprocessor-cohere-rerank) (4.10.0)\n",
            "Requirement already satisfied: deprecated>=1.2.9.3 in .\\llama-10\\lib\\site-packages (from llama-index-core<0.11.0,>=0.10.1->llama-index-postprocessor-cohere-rerank) (1.2.14)\n",
            "Requirement already satisfied: pillow>=9.0.0 in .\\llama-10\\lib\\site-packages (from llama-index-core<0.11.0,>=0.10.1->llama-index-postprocessor-cohere-rerank) (10.2.0)\n",
            "Requirement already satisfied: tqdm<5.0.0,>=4.66.1 in .\\llama-10\\lib\\site-packages (from llama-index-core<0.11.0,>=0.10.1->llama-index-postprocessor-cohere-rerank) (4.66.2)\n",
            "Requirement already satisfied: fsspec>=2023.5.0 in .\\llama-10\\lib\\site-packages (from llama-index-core<0.11.0,>=0.10.1->llama-index-postprocessor-cohere-rerank) (2024.3.0)\n",
            "Requirement already satisfied: dataclasses-json in .\\llama-10\\lib\\site-packages (from llama-index-core<0.11.0,>=0.10.1->llama-index-postprocessor-cohere-rerank) (0.6.4)\n",
            "Requirement already satisfied: aiosignal>=1.1.2 in .\\llama-10\\lib\\site-packages (from aiohttp<4.0,>=3.0->cohere<5.0,>=4.45->llama-index-postprocessor-cohere-rerank) (1.3.1)\n",
            "Requirement already satisfied: yarl<2.0,>=1.0 in .\\llama-10\\lib\\site-packages (from aiohttp<4.0,>=3.0->cohere<5.0,>=4.45->llama-index-postprocessor-cohere-rerank) (1.9.4)\n",
            "Requirement already satisfied: multidict<7.0,>=4.5 in .\\llama-10\\lib\\site-packages (from aiohttp<4.0,>=3.0->cohere<5.0,>=4.45->llama-index-postprocessor-cohere-rerank) (6.0.5)\n",
            "Requirement already satisfied: frozenlist>=1.1.1 in .\\llama-10\\lib\\site-packages (from aiohttp<4.0,>=3.0->cohere<5.0,>=4.45->llama-index-postprocessor-cohere-rerank) (1.4.1)\n",
            "Requirement already satisfied: attrs>=17.3.0 in .\\llama-10\\lib\\site-packages (from aiohttp<4.0,>=3.0->cohere<5.0,>=4.45->llama-index-postprocessor-cohere-rerank) (23.2.0)\n",
            "Requirement already satisfied: async-timeout<5.0,>=4.0 in .\\llama-10\\lib\\site-packages (from aiohttp<4.0,>=3.0->cohere<5.0,>=4.45->llama-index-postprocessor-cohere-rerank) (4.0.3)\n",
            "Requirement already satisfied: wrapt<2,>=1.10 in .\\llama-10\\lib\\site-packages (from deprecated>=1.2.9.3->llama-index-core<0.11.0,>=0.10.1->llama-index-postprocessor-cohere-rerank) (1.16.0)\n",
            "Requirement already satisfied: zipp>=0.5 in .\\llama-10\\lib\\site-packages (from importlib_metadata<7.0,>=6.0->cohere<5.0,>=4.45->llama-index-postprocessor-cohere-rerank) (3.18.1)\n",
            "Requirement already satisfied: pydantic>=1.10 in .\\llama-10\\lib\\site-packages (from llamaindex-py-client<0.2.0,>=0.1.13->llama-index-core<0.11.0,>=0.10.1->llama-index-postprocessor-cohere-rerank) (2.6.4)\n",
            "Requirement already satisfied: sniffio in .\\llama-10\\lib\\site-packages (from httpx->llama-index-core<0.11.0,>=0.10.1->llama-index-postprocessor-cohere-rerank) (1.3.1)\n",
            "Requirement already satisfied: httpcore==1.* in .\\llama-10\\lib\\site-packages (from httpx->llama-index-core<0.11.0,>=0.10.1->llama-index-postprocessor-cohere-rerank) (1.0.4)\n",
            "Requirement already satisfied: idna in .\\llama-10\\lib\\site-packages (from httpx->llama-index-core<0.11.0,>=0.10.1->llama-index-postprocessor-cohere-rerank) (3.6)\n",
            "Requirement already satisfied: anyio in .\\llama-10\\lib\\site-packages (from httpx->llama-index-core<0.11.0,>=0.10.1->llama-index-postprocessor-cohere-rerank) (4.3.0)\n",
            "Requirement already satisfied: certifi in .\\llama-10\\lib\\site-packages (from httpx->llama-index-core<0.11.0,>=0.10.1->llama-index-postprocessor-cohere-rerank) (2024.2.2)\n",
            "Requirement already satisfied: h11<0.15,>=0.13 in .\\llama-10\\lib\\site-packages (from httpcore==1.*->httpx->llama-index-core<0.11.0,>=0.10.1->llama-index-postprocessor-cohere-rerank) (0.14.0)\n",
            "Requirement already satisfied: joblib in .\\llama-10\\lib\\site-packages (from nltk<4.0.0,>=3.8.1->llama-index-core<0.11.0,>=0.10.1->llama-index-postprocessor-cohere-rerank) (1.3.2)\n",
            "Requirement already satisfied: regex>=2021.8.3 in .\\llama-10\\lib\\site-packages (from nltk<4.0.0,>=3.8.1->llama-index-core<0.11.0,>=0.10.1->llama-index-postprocessor-cohere-rerank) (2023.12.25)\n",
            "Requirement already satisfied: click in .\\llama-10\\lib\\site-packages (from nltk<4.0.0,>=3.8.1->llama-index-core<0.11.0,>=0.10.1->llama-index-postprocessor-cohere-rerank) (8.1.7)\n",
            "Requirement already satisfied: distro<2,>=1.7.0 in .\\llama-10\\lib\\site-packages (from openai>=1.1.0->llama-index-core<0.11.0,>=0.10.1->llama-index-postprocessor-cohere-rerank) (1.9.0)\n",
            "Requirement already satisfied: charset-normalizer<4,>=2 in .\\llama-10\\lib\\site-packages (from requests<3.0.0,>=2.25.0->cohere<5.0,>=4.45->llama-index-postprocessor-cohere-rerank) (3.3.2)\n",
            "Requirement already satisfied: greenlet!=0.4.17 in .\\llama-10\\lib\\site-packages (from SQLAlchemy[asyncio]>=1.4.49->llama-index-core<0.11.0,>=0.10.1->llama-index-postprocessor-cohere-rerank) (3.0.3)\n",
            "Requirement already satisfied: colorama in .\\llama-10\\lib\\site-packages (from tqdm<5.0.0,>=4.66.1->llama-index-core<0.11.0,>=0.10.1->llama-index-postprocessor-cohere-rerank) (0.4.6)\n",
            "Requirement already satisfied: mypy-extensions>=0.3.0 in .\\llama-10\\lib\\site-packages (from typing-inspect>=0.8.0->llama-index-core<0.11.0,>=0.10.1->llama-index-postprocessor-cohere-rerank) (1.0.0)\n",
            "Requirement already satisfied: marshmallow<4.0.0,>=3.18.0 in .\\llama-10\\lib\\site-packages (from dataclasses-json->llama-index-core<0.11.0,>=0.10.1->llama-index-postprocessor-cohere-rerank) (3.21.1)\n",
            "Requirement already satisfied: python-dateutil>=2.8.2 in .\\llama-10\\lib\\site-packages (from pandas->llama-index-core<0.11.0,>=0.10.1->llama-index-postprocessor-cohere-rerank) (2.9.0.post0)\n",
            "Requirement already satisfied: tzdata>=2022.7 in .\\llama-10\\lib\\site-packages (from pandas->llama-index-core<0.11.0,>=0.10.1->llama-index-postprocessor-cohere-rerank) (2024.1)\n",
            "Requirement already satisfied: pytz>=2020.1 in .\\llama-10\\lib\\site-packages (from pandas->llama-index-core<0.11.0,>=0.10.1->llama-index-postprocessor-cohere-rerank) (2024.1)\n",
            "Requirement already satisfied: exceptiongroup>=1.0.2 in .\\llama-10\\lib\\site-packages (from anyio->httpx->llama-index-core<0.11.0,>=0.10.1->llama-index-postprocessor-cohere-rerank) (1.2.0)\n",
            "Requirement already satisfied: packaging>=17.0 in .\\llama-10\\lib\\site-packages (from marshmallow<4.0.0,>=3.18.0->dataclasses-json->llama-index-core<0.11.0,>=0.10.1->llama-index-postprocessor-cohere-rerank) (24.0)\n",
            "Requirement already satisfied: annotated-types>=0.4.0 in .\\llama-10\\lib\\site-packages (from pydantic>=1.10->llamaindex-py-client<0.2.0,>=0.1.13->llama-index-core<0.11.0,>=0.10.1->llama-index-postprocessor-cohere-rerank) (0.6.0)\n",
            "Requirement already satisfied: pydantic-core==2.16.3 in .\\llama-10\\lib\\site-packages (from pydantic>=1.10->llamaindex-py-client<0.2.0,>=0.1.13->llama-index-core<0.11.0,>=0.10.1->llama-index-postprocessor-cohere-rerank) (2.16.3)\n",
            "Requirement already satisfied: six>=1.5 in .\\llama-10\\lib\\site-packages (from python-dateutil>=2.8.2->pandas->llama-index-core<0.11.0,>=0.10.1->llama-index-postprocessor-cohere-rerank) (1.16.0)\n",
            "Installing collected packages: importlib_metadata, fastavro, backoff, cohere, llama-index-postprocessor-cohere-rerank\n",
            "  Attempting uninstall: importlib_metadata\n",
            "    Found existing installation: importlib_metadata 7.0.2\n",
            "    Uninstalling importlib_metadata-7.0.2:\n",
            "      Successfully uninstalled importlib_metadata-7.0.2\n",
            "Successfully installed backoff-2.2.1 cohere-4.56 fastavro-1.9.4 importlib_metadata-6.11.0 llama-index-postprocessor-cohere-rerank-0.1.2\n",
            "Note: you may need to restart the kernel to use updated packages.\n"
          ]
        },
        {
          "name": "stderr",
          "output_type": "stream",
          "text": [
            "WARNING: You are using pip version 22.0.4; however, version 24.0 is available.\n",
            "You should consider upgrading via the 'c:\\llamaindex\\llamaindex-advanced\\llama-10\\Scripts\\python.exe -m pip install --upgrade pip' command.\n"
          ]
        }
      ],
      "source": [
        "%pip install llama-index-postprocessor-cohere-rerank"
      ]
    },
    {
      "cell_type": "code",
      "execution_count": 7,
      "metadata": {
        "colab": {
          "base_uri": "https://localhost:8080/"
        },
        "id": "5mEFyHMo0IyW",
        "outputId": "425de15d-9e4b-41ea-8097-16f18b9f7439"
      },
      "outputs": [
        {
          "name": "stdout",
          "output_type": "stream",
          "text": [
            "Requirement already satisfied: llama-index in .\\llama-10\\lib\\site-packages (0.10.20)\n",
            "Requirement already satisfied: python-dotenv in .\\llama-10\\lib\\site-packages (1.0.1)\n",
            "Requirement already satisfied: llama-index-legacy<0.10.0,>=0.9.48 in .\\llama-10\\lib\\site-packages (from llama-index) (0.9.48)\n",
            "Requirement already satisfied: llama-index-core<0.11.0,>=0.10.20 in .\\llama-10\\lib\\site-packages (from llama-index) (0.10.20.post2)\n",
            "Requirement already satisfied: llama-index-llms-openai<0.2.0,>=0.1.5 in .\\llama-10\\lib\\site-packages (from llama-index) (0.1.12)\n",
            "Requirement already satisfied: llama-index-embeddings-openai<0.2.0,>=0.1.5 in .\\llama-10\\lib\\site-packages (from llama-index) (0.1.6)\n",
            "Requirement already satisfied: llama-index-program-openai<0.2.0,>=0.1.3 in .\\llama-10\\lib\\site-packages (from llama-index) (0.1.4)\n",
            "Requirement already satisfied: llama-index-readers-file<0.2.0,>=0.1.4 in .\\llama-10\\lib\\site-packages (from llama-index) (0.1.11)\n",
            "Requirement already satisfied: llama-index-question-gen-openai<0.2.0,>=0.1.2 in .\\llama-10\\lib\\site-packages (from llama-index) (0.1.3)\n",
            "Requirement already satisfied: llama-index-readers-llama-parse<0.2.0,>=0.1.2 in .\\llama-10\\lib\\site-packages (from llama-index) (0.1.3)\n",
            "Requirement already satisfied: llama-index-cli<0.2.0,>=0.1.2 in .\\llama-10\\lib\\site-packages (from llama-index) (0.1.9)\n",
            "Requirement already satisfied: llama-index-multi-modal-llms-openai<0.2.0,>=0.1.3 in .\\llama-10\\lib\\site-packages (from llama-index) (0.1.4)\n",
            "Requirement already satisfied: llama-index-agent-openai<0.2.0,>=0.1.4 in .\\llama-10\\lib\\site-packages (from llama-index) (0.1.5)\n",
            "Requirement already satisfied: llama-index-indices-managed-llama-cloud<0.2.0,>=0.1.2 in .\\llama-10\\lib\\site-packages (from llama-index) (0.1.4)\n",
            "Requirement already satisfied: requests>=2.31.0 in .\\llama-10\\lib\\site-packages (from llama-index-core<0.11.0,>=0.10.20->llama-index) (2.31.0)\n",
            "Requirement already satisfied: tenacity<9.0.0,>=8.2.0 in .\\llama-10\\lib\\site-packages (from llama-index-core<0.11.0,>=0.10.20->llama-index) (8.2.3)\n",
            "Requirement already satisfied: tqdm<5.0.0,>=4.66.1 in .\\llama-10\\lib\\site-packages (from llama-index-core<0.11.0,>=0.10.20->llama-index) (4.66.2)\n",
            "Requirement already satisfied: openai>=1.1.0 in .\\llama-10\\lib\\site-packages (from llama-index-core<0.11.0,>=0.10.20->llama-index) (1.14.1)\n",
            "Requirement already satisfied: nltk<4.0.0,>=3.8.1 in .\\llama-10\\lib\\site-packages (from llama-index-core<0.11.0,>=0.10.20->llama-index) (3.8.1)\n",
            "Requirement already satisfied: tiktoken>=0.3.3 in .\\llama-10\\lib\\site-packages (from llama-index-core<0.11.0,>=0.10.20->llama-index) (0.6.0)\n",
            "Requirement already satisfied: httpx in .\\llama-10\\lib\\site-packages (from llama-index-core<0.11.0,>=0.10.20->llama-index) (0.27.0)\n",
            "Requirement already satisfied: pandas in .\\llama-10\\lib\\site-packages (from llama-index-core<0.11.0,>=0.10.20->llama-index) (2.2.1)\n",
            "Requirement already satisfied: typing-inspect>=0.8.0 in .\\llama-10\\lib\\site-packages (from llama-index-core<0.11.0,>=0.10.20->llama-index) (0.9.0)\n",
            "Requirement already satisfied: numpy in .\\llama-10\\lib\\site-packages (from llama-index-core<0.11.0,>=0.10.20->llama-index) (1.26.4)\n",
            "Requirement already satisfied: fsspec>=2023.5.0 in .\\llama-10\\lib\\site-packages (from llama-index-core<0.11.0,>=0.10.20->llama-index) (2024.3.0)\n",
            "Requirement already satisfied: aiohttp<4.0.0,>=3.8.6 in .\\llama-10\\lib\\site-packages (from llama-index-core<0.11.0,>=0.10.20->llama-index) (3.9.3)\n",
            "Requirement already satisfied: llamaindex-py-client<0.2.0,>=0.1.13 in .\\llama-10\\lib\\site-packages (from llama-index-core<0.11.0,>=0.10.20->llama-index) (0.1.13)\n",
            "Requirement already satisfied: SQLAlchemy[asyncio]>=1.4.49 in .\\llama-10\\lib\\site-packages (from llama-index-core<0.11.0,>=0.10.20->llama-index) (2.0.28)\n",
            "Requirement already satisfied: dirtyjson<2.0.0,>=1.0.8 in .\\llama-10\\lib\\site-packages (from llama-index-core<0.11.0,>=0.10.20->llama-index) (1.0.8)\n",
            "Requirement already satisfied: typing-extensions>=4.5.0 in .\\llama-10\\lib\\site-packages (from llama-index-core<0.11.0,>=0.10.20->llama-index) (4.10.0)\n",
            "Requirement already satisfied: pillow>=9.0.0 in .\\llama-10\\lib\\site-packages (from llama-index-core<0.11.0,>=0.10.20->llama-index) (10.2.0)\n",
            "Requirement already satisfied: networkx>=3.0 in .\\llama-10\\lib\\site-packages (from llama-index-core<0.11.0,>=0.10.20->llama-index) (3.2.1)\n",
            "Requirement already satisfied: deprecated>=1.2.9.3 in .\\llama-10\\lib\\site-packages (from llama-index-core<0.11.0,>=0.10.20->llama-index) (1.2.14)\n",
            "Requirement already satisfied: nest-asyncio<2.0.0,>=1.5.8 in .\\llama-10\\lib\\site-packages (from llama-index-core<0.11.0,>=0.10.20->llama-index) (1.6.0)\n",
            "Requirement already satisfied: dataclasses-json in .\\llama-10\\lib\\site-packages (from llama-index-core<0.11.0,>=0.10.20->llama-index) (0.6.4)\n",
            "Requirement already satisfied: PyYAML>=6.0.1 in .\\llama-10\\lib\\site-packages (from llama-index-core<0.11.0,>=0.10.20->llama-index) (6.0.1)\n",
            "Requirement already satisfied: beautifulsoup4<5.0.0,>=4.12.3 in .\\llama-10\\lib\\site-packages (from llama-index-readers-file<0.2.0,>=0.1.4->llama-index) (4.12.3)\n",
            "Requirement already satisfied: pypdf<5.0.0,>=4.0.1 in .\\llama-10\\lib\\site-packages (from llama-index-readers-file<0.2.0,>=0.1.4->llama-index) (4.1.0)\n",
            "Requirement already satisfied: striprtf<0.0.27,>=0.0.26 in .\\llama-10\\lib\\site-packages (from llama-index-readers-file<0.2.0,>=0.1.4->llama-index) (0.0.26)\n",
            "Requirement already satisfied: bs4<0.0.3,>=0.0.2 in .\\llama-10\\lib\\site-packages (from llama-index-readers-file<0.2.0,>=0.1.4->llama-index) (0.0.2)\n",
            "Requirement already satisfied: pymupdf<2.0.0,>=1.23.21 in .\\llama-10\\lib\\site-packages (from llama-index-readers-file<0.2.0,>=0.1.4->llama-index) (1.23.26)\n",
            "Requirement already satisfied: llama-parse<0.4.0,>=0.3.3 in .\\llama-10\\lib\\site-packages (from llama-index-readers-llama-parse<0.2.0,>=0.1.2->llama-index) (0.3.9)\n",
            "Requirement already satisfied: yarl<2.0,>=1.0 in .\\llama-10\\lib\\site-packages (from aiohttp<4.0.0,>=3.8.6->llama-index-core<0.11.0,>=0.10.20->llama-index) (1.9.4)\n",
            "Requirement already satisfied: aiosignal>=1.1.2 in .\\llama-10\\lib\\site-packages (from aiohttp<4.0.0,>=3.8.6->llama-index-core<0.11.0,>=0.10.20->llama-index) (1.3.1)\n",
            "Requirement already satisfied: attrs>=17.3.0 in .\\llama-10\\lib\\site-packages (from aiohttp<4.0.0,>=3.8.6->llama-index-core<0.11.0,>=0.10.20->llama-index) (23.2.0)\n",
            "Requirement already satisfied: frozenlist>=1.1.1 in .\\llama-10\\lib\\site-packages (from aiohttp<4.0.0,>=3.8.6->llama-index-core<0.11.0,>=0.10.20->llama-index) (1.4.1)\n",
            "Requirement already satisfied: async-timeout<5.0,>=4.0 in .\\llama-10\\lib\\site-packages (from aiohttp<4.0.0,>=3.8.6->llama-index-core<0.11.0,>=0.10.20->llama-index) (4.0.3)\n",
            "Requirement already satisfied: multidict<7.0,>=4.5 in .\\llama-10\\lib\\site-packages (from aiohttp<4.0.0,>=3.8.6->llama-index-core<0.11.0,>=0.10.20->llama-index) (6.0.5)\n",
            "Requirement already satisfied: soupsieve>1.2 in .\\llama-10\\lib\\site-packages (from beautifulsoup4<5.0.0,>=4.12.3->llama-index-readers-file<0.2.0,>=0.1.4->llama-index) (2.5)\n",
            "Requirement already satisfied: wrapt<2,>=1.10 in .\\llama-10\\lib\\site-packages (from deprecated>=1.2.9.3->llama-index-core<0.11.0,>=0.10.20->llama-index) (1.16.0)\n",
            "Requirement already satisfied: pydantic>=1.10 in .\\llama-10\\lib\\site-packages (from llamaindex-py-client<0.2.0,>=0.1.13->llama-index-core<0.11.0,>=0.10.20->llama-index) (2.6.4)\n",
            "Requirement already satisfied: certifi in .\\llama-10\\lib\\site-packages (from httpx->llama-index-core<0.11.0,>=0.10.20->llama-index) (2024.2.2)\n",
            "Requirement already satisfied: idna in .\\llama-10\\lib\\site-packages (from httpx->llama-index-core<0.11.0,>=0.10.20->llama-index) (3.6)\n",
            "Requirement already satisfied: sniffio in .\\llama-10\\lib\\site-packages (from httpx->llama-index-core<0.11.0,>=0.10.20->llama-index) (1.3.1)\n",
            "Requirement already satisfied: httpcore==1.* in .\\llama-10\\lib\\site-packages (from httpx->llama-index-core<0.11.0,>=0.10.20->llama-index) (1.0.4)\n",
            "Requirement already satisfied: anyio in .\\llama-10\\lib\\site-packages (from httpx->llama-index-core<0.11.0,>=0.10.20->llama-index) (4.3.0)\n",
            "Requirement already satisfied: h11<0.15,>=0.13 in .\\llama-10\\lib\\site-packages (from httpcore==1.*->httpx->llama-index-core<0.11.0,>=0.10.20->llama-index) (0.14.0)\n",
            "Requirement already satisfied: joblib in .\\llama-10\\lib\\site-packages (from nltk<4.0.0,>=3.8.1->llama-index-core<0.11.0,>=0.10.20->llama-index) (1.3.2)\n",
            "Requirement already satisfied: click in .\\llama-10\\lib\\site-packages (from nltk<4.0.0,>=3.8.1->llama-index-core<0.11.0,>=0.10.20->llama-index) (8.1.7)\n",
            "Requirement already satisfied: regex>=2021.8.3 in .\\llama-10\\lib\\site-packages (from nltk<4.0.0,>=3.8.1->llama-index-core<0.11.0,>=0.10.20->llama-index) (2023.12.25)\n",
            "Requirement already satisfied: distro<2,>=1.7.0 in .\\llama-10\\lib\\site-packages (from openai>=1.1.0->llama-index-core<0.11.0,>=0.10.20->llama-index) (1.9.0)\n",
            "Requirement already satisfied: PyMuPDFb==1.23.22 in .\\llama-10\\lib\\site-packages (from pymupdf<2.0.0,>=1.23.21->llama-index-readers-file<0.2.0,>=0.1.4->llama-index) (1.23.22)\n",
            "Requirement already satisfied: charset-normalizer<4,>=2 in .\\llama-10\\lib\\site-packages (from requests>=2.31.0->llama-index-core<0.11.0,>=0.10.20->llama-index) (3.3.2)\n",
            "Requirement already satisfied: urllib3<3,>=1.21.1 in .\\llama-10\\lib\\site-packages (from requests>=2.31.0->llama-index-core<0.11.0,>=0.10.20->llama-index) (2.2.1)\n",
            "Requirement already satisfied: greenlet!=0.4.17 in .\\llama-10\\lib\\site-packages (from SQLAlchemy[asyncio]>=1.4.49->llama-index-core<0.11.0,>=0.10.20->llama-index) (3.0.3)\n",
            "Requirement already satisfied: colorama in .\\llama-10\\lib\\site-packages (from tqdm<5.0.0,>=4.66.1->llama-index-core<0.11.0,>=0.10.20->llama-index) (0.4.6)\n",
            "Requirement already satisfied: mypy-extensions>=0.3.0 in .\\llama-10\\lib\\site-packages (from typing-inspect>=0.8.0->llama-index-core<0.11.0,>=0.10.20->llama-index) (1.0.0)\n",
            "Requirement already satisfied: marshmallow<4.0.0,>=3.18.0 in .\\llama-10\\lib\\site-packages (from dataclasses-json->llama-index-core<0.11.0,>=0.10.20->llama-index) (3.21.1)\n",
            "Requirement already satisfied: pytz>=2020.1 in .\\llama-10\\lib\\site-packages (from pandas->llama-index-core<0.11.0,>=0.10.20->llama-index) (2024.1)\n",
            "Requirement already satisfied: python-dateutil>=2.8.2 in .\\llama-10\\lib\\site-packages (from pandas->llama-index-core<0.11.0,>=0.10.20->llama-index) (2.9.0.post0)\n",
            "Requirement already satisfied: tzdata>=2022.7 in .\\llama-10\\lib\\site-packages (from pandas->llama-index-core<0.11.0,>=0.10.20->llama-index) (2024.1)\n",
            "Requirement already satisfied: exceptiongroup>=1.0.2 in .\\llama-10\\lib\\site-packages (from anyio->httpx->llama-index-core<0.11.0,>=0.10.20->llama-index) (1.2.0)\n",
            "Requirement already satisfied: packaging>=17.0 in .\\llama-10\\lib\\site-packages (from marshmallow<4.0.0,>=3.18.0->dataclasses-json->llama-index-core<0.11.0,>=0.10.20->llama-index) (24.0)\n",
            "Requirement already satisfied: pydantic-core==2.16.3 in .\\llama-10\\lib\\site-packages (from pydantic>=1.10->llamaindex-py-client<0.2.0,>=0.1.13->llama-index-core<0.11.0,>=0.10.20->llama-index) (2.16.3)\n",
            "Requirement already satisfied: annotated-types>=0.4.0 in .\\llama-10\\lib\\site-packages (from pydantic>=1.10->llamaindex-py-client<0.2.0,>=0.1.13->llama-index-core<0.11.0,>=0.10.20->llama-index) (0.6.0)\n",
            "Requirement already satisfied: six>=1.5 in .\\llama-10\\lib\\site-packages (from python-dateutil>=2.8.2->pandas->llama-index-core<0.11.0,>=0.10.20->llama-index) (1.16.0)\n"
          ]
        },
        {
          "name": "stderr",
          "output_type": "stream",
          "text": [
            "WARNING: You are using pip version 22.0.4; however, version 24.0 is available.\n",
            "You should consider upgrading via the 'C:\\llamaindex\\llamaindex-advanced\\llama-10\\Scripts\\python.exe -m pip install --upgrade pip' command.\n"
          ]
        }
      ],
      "source": [
        "!pip install llama-index python-dotenv"
      ]
    },
    {
      "cell_type": "code",
      "execution_count": 8,
      "metadata": {
        "id": "QbJf1i6X0IyW"
      },
      "outputs": [],
      "source": [
        "from llama_index.core import (\n",
        "    VectorStoreIndex,\n",
        "    SimpleDirectoryReader\n",
        ")\n",
        "\n",
        "from llama_index.core.response.pprint_utils import pprint_response\n",
        "\n",
        "import os\n",
        "from dotenv import load_dotenv \n",
        "\n",
        "load_dotenv(\".env\", override=True)\n",
        "openai_key = os.environ[\"OPENAI_API_KEY\"] "
      ]
    },
    {
      "cell_type": "code",
      "execution_count": 9,
      "metadata": {
        "colab": {
          "base_uri": "https://localhost:8080/",
          "height": 686
        },
        "id": "Facg6I_Z0IyY",
        "outputId": "cade1fee-6837-4f26-e344-060d57f02134"
      },
      "outputs": [],
      "source": [
        "# load documents\n",
        "documents = SimpleDirectoryReader(\"./data/paul_graham/\").load_data()\n",
        "# build index\n",
        "index = VectorStoreIndex.from_documents(documents=documents)\n",
        "\n"
      ]
    },
    {
      "cell_type": "code",
      "execution_count": 11,
      "metadata": {
        "id": "SRUX-2ml0IyZ"
      },
      "outputs": [],
      "source": [
        "import os\n",
        "from llama_index.postprocessor.cohere_rerank import CohereRerank\n",
        "\n",
        "api_key = os.environ[\"COHERE_API_KEY\"]\n",
        "cohere_rerank = CohereRerank(api_key=api_key, top_n=2)"
      ]
    },
    {
      "cell_type": "code",
      "execution_count": 12,
      "metadata": {
        "id": "13q8hzko0IyZ"
      },
      "outputs": [],
      "source": [
        "query_engine = index.as_query_engine(\n",
        "    similarity_top_k=2,\n",
        ")\n",
        "response = query_engine.query(\n",
        "    \"What did sam altman do in this essay?\",\n",
        ")"
      ]
    },
    {
      "cell_type": "code",
      "execution_count": 13,
      "metadata": {
        "id": "ZaxGTG0A0Iya",
        "outputId": "2bc1f91f-3fcf-4aff-ad6b-48436a284b67"
      },
      "outputs": [
        {
          "name": "stdout",
          "output_type": "stream",
          "text": [
            "Final Response: Sam Altman was asked to become the president of Y\n",
            "Combinator (YC) in the essay.\n",
            "______________________________________________________________________\n",
            "Source Node 1/2\n",
            "Node ID: 2c922cbd-5624-4e1c-bc52-d8832e273011\n",
            "Similarity: 0.8188785404081247\n",
            "Text: This seemed strange advice, because YC was doing great. But if\n",
            "there was one thing rarer than Rtm offering advice, it was Rtm being\n",
            "wrong. So this set me thinking. It was true that on my current\n",
            "trajectory, YC would be the last thing I did, because it was only\n",
            "taking up more of my attention. It had already eaten Arc, and was in\n",
            "the process of ea...\n",
            "______________________________________________________________________\n",
            "Source Node 2/2\n",
            "Node ID: 6bbaab15-e1cf-4acd-9d7f-a7098b4fcd51\n",
            "Similarity: 0.8067207471928\n",
            "Text: Socially they'd seem more like rants posted by nutjobs on their\n",
            "GeoCities sites than the genteel and beautifully typeset compositions\n",
            "published in The New Yorker. But by this point I knew enough to find\n",
            "that encouraging instead of discouraging.    One of the most\n",
            "conspicuous patterns I've noticed in my life is how well it has\n",
            "worked, for me at l...\n"
          ]
        }
      ],
      "source": [
        "# pprint.pprint(response)\n",
        "pprint_response(response,show_source=True)"
      ]
    },
    {
      "cell_type": "code",
      "execution_count": 14,
      "metadata": {
        "id": "bfqHfeV60Iya"
      },
      "outputs": [],
      "source": [
        "\n",
        "query_engine = index.as_query_engine(\n",
        "    similarity_top_k=10,\n",
        "    node_postprocessors=[cohere_rerank],\n",
        ")\n",
        "response = query_engine.query(\n",
        "    \"What did Sam Altman do in this essay?\",\n",
        ")"
      ]
    },
    {
      "cell_type": "code",
      "execution_count": 15,
      "metadata": {},
      "outputs": [
        {
          "name": "stdout",
          "output_type": "stream",
          "text": [
            "Final Response: Sam Altman was one of the individuals who participated\n",
            "in the Summer Founders Program mentioned in the essay.\n",
            "______________________________________________________________________\n",
            "Source Node 1/2\n",
            "Node ID: 676709b7-40a2-4646-9b16-6b81d0e3ea1d\n",
            "Similarity: 0.81286734\n",
            "Text: Why not organize a summer program where they'd start startups\n",
            "instead? We wouldn't feel guilty for being in a sense fake investors,\n",
            "because they would in a similar sense be fake founders. So while we\n",
            "probably wouldn't make much money out of it, we'd at least get to\n",
            "practice being investors on them, and they for their part would\n",
            "probably have a m...\n",
            "______________________________________________________________________\n",
            "Source Node 2/2\n",
            "Node ID: 92b6e210-3d88-4329-8a84-20defec177c7\n",
            "Similarity: 0.70007527\n",
            "Text: But after Heroku got bought we had enough money to go back to\n",
            "being self-funded.    [15] I've never liked the term \"deal flow,\"\n",
            "because it implies that the number of new startups at any given time\n",
            "is fixed. This is not only false, but it's the purpose of YC to\n",
            "falsify it, by causing startups to be founded that would not otherwise\n",
            "have existed.  ...\n"
          ]
        }
      ],
      "source": [
        "pprint_response(response,show_source=True)"
      ]
    },
    {
      "cell_type": "code",
      "execution_count": 16,
      "metadata": {},
      "outputs": [],
      "source": [
        "from llama_index.core import QueryBundle\n",
        "from llama_index.core.schema import TextNode, NodeWithScore\n",
        "\n",
        "query = QueryBundle(\"I want a dog.\")\n",
        "\n",
        "scored_nodes = [\n",
        "    NodeWithScore(node=TextNode(text=\"This is a cat\"), score=0.6),\n",
        "    NodeWithScore(node=TextNode(text=\"This is a dog\"), score=0.4),\n",
        "]"
      ]
    },
    {
      "cell_type": "code",
      "execution_count": 17,
      "metadata": {},
      "outputs": [],
      "source": [
        "reranked_nodes = cohere_rerank.postprocess_nodes(\n",
        "    scored_nodes, query_bundle=query\n",
        ")"
      ]
    },
    {
      "cell_type": "code",
      "execution_count": 18,
      "metadata": {},
      "outputs": [
        {
          "name": "stdout",
          "output_type": "stream",
          "text": [
            "[('This is a dog', 0.011597361), ('This is a cat', 0.0073458264)]\n"
          ]
        }
      ],
      "source": [
        "\n",
        "print([(x.text, x.score) for x in reranked_nodes])"
      ]
    }
  ],
  "metadata": {
    "colab": {
      "provenance": []
    },
    "kernelspec": {
      "display_name": "Python 3 (ipykernel)",
      "language": "python",
      "name": "python3"
    },
    "language_info": {
      "codemirror_mode": {
        "name": "ipython",
        "version": 3
      },
      "file_extension": ".py",
      "mimetype": "text/x-python",
      "name": "python",
      "nbconvert_exporter": "python",
      "pygments_lexer": "ipython3",
      "version": "3.9.13"
    }
  },
  "nbformat": 4,
  "nbformat_minor": 0
}
