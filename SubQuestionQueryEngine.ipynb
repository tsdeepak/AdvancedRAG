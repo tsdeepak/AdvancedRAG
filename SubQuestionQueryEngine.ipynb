{
  "cells": [
    {
      "cell_type": "markdown",
      "metadata": {
        "id": "NzWzjWew9zW-"
      },
      "source": [
        "##### Compare Documents using SubQuestionQueryEngine\n",
        "![alt text](image/2024-01-23_17-46.png \"a title\")"
      ]
    },
    {
      "cell_type": "code",
      "execution_count": 2,
      "metadata": {
        "colab": {
          "base_uri": "https://localhost:8080/"
        },
        "id": "sirmT_ZV9yJK",
        "outputId": "637005f8-10b5-4266-f2a5-2bc7c0cc37fb"
      },
      "outputs": [
        {
          "name": "stdout",
          "output_type": "stream",
          "text": [
            "Requirement already satisfied: llama_index==0.9.31 in .\\llamaindex\\lib\\site-packages (0.9.31)\n",
            "Requirement already satisfied: pypdf in .\\llamaindex\\lib\\site-packages (4.1.0)\n",
            "Requirement already satisfied: python-dotenv in .\\llamaindex\\lib\\site-packages (1.0.1)\n",
            "Requirement already satisfied: beautifulsoup4<5.0.0,>=4.12.2 in .\\llamaindex\\lib\\site-packages (from llama_index==0.9.31) (4.12.2)\n",
            "Requirement already satisfied: nltk<4.0.0,>=3.8.1 in .\\llamaindex\\lib\\site-packages (from llama_index==0.9.31) (3.8.1)\n",
            "Requirement already satisfied: deprecated>=1.2.9.3 in .\\llamaindex\\lib\\site-packages (from llama_index==0.9.31) (1.2.14)\n",
            "Requirement already satisfied: pandas in .\\llamaindex\\lib\\site-packages (from llama_index==0.9.31) (2.1.4)\n",
            "Requirement already satisfied: numpy in .\\llamaindex\\lib\\site-packages (from llama_index==0.9.31) (1.26.3)\n",
            "Requirement already satisfied: dataclasses-json in .\\llamaindex\\lib\\site-packages (from llama_index==0.9.31) (0.5.14)\n",
            "Requirement already satisfied: openai>=1.1.0 in .\\llamaindex\\lib\\site-packages (from llama_index==0.9.31) (1.14.1)\n",
            "Requirement already satisfied: typing-extensions>=4.5.0 in .\\llamaindex\\lib\\site-packages (from llama_index==0.9.31) (4.9.0)\n",
            "Requirement already satisfied: networkx>=3.0 in .\\llamaindex\\lib\\site-packages (from llama_index==0.9.31) (3.2.1)\n",
            "Requirement already satisfied: aiohttp<4.0.0,>=3.8.6 in .\\llamaindex\\lib\\site-packages (from llama_index==0.9.31) (3.9.1)\n",
            "Requirement already satisfied: fsspec>=2023.5.0 in .\\llamaindex\\lib\\site-packages (from llama_index==0.9.31) (2023.12.2)\n",
            "Requirement already satisfied: httpx in .\\llamaindex\\lib\\site-packages (from llama_index==0.9.31) (0.25.2)\n",
            "Requirement already satisfied: SQLAlchemy[asyncio]>=1.4.49 in .\\llamaindex\\lib\\site-packages (from llama_index==0.9.31) (2.0.25)\n",
            "Requirement already satisfied: requests>=2.31.0 in .\\llamaindex\\lib\\site-packages (from llama_index==0.9.31) (2.31.0)\n",
            "Requirement already satisfied: nest-asyncio<2.0.0,>=1.5.8 in .\\llamaindex\\lib\\site-packages (from llama_index==0.9.31) (1.5.9)\n",
            "Requirement already satisfied: typing-inspect>=0.8.0 in .\\llamaindex\\lib\\site-packages (from llama_index==0.9.31) (0.9.0)\n",
            "Requirement already satisfied: tiktoken>=0.3.3 in .\\llamaindex\\lib\\site-packages (from llama_index==0.9.31) (0.5.2)\n",
            "Requirement already satisfied: tenacity<9.0.0,>=8.2.0 in .\\llamaindex\\lib\\site-packages (from llama_index==0.9.31) (8.2.3)\n",
            "Requirement already satisfied: yarl<2.0,>=1.0 in .\\llamaindex\\lib\\site-packages (from aiohttp<4.0.0,>=3.8.6->llama_index==0.9.31) (1.9.4)\n",
            "Requirement already satisfied: attrs>=17.3.0 in .\\llamaindex\\lib\\site-packages (from aiohttp<4.0.0,>=3.8.6->llama_index==0.9.31) (23.2.0)\n",
            "Requirement already satisfied: multidict<7.0,>=4.5 in .\\llamaindex\\lib\\site-packages (from aiohttp<4.0.0,>=3.8.6->llama_index==0.9.31) (6.0.4)\n",
            "Requirement already satisfied: async-timeout<5.0,>=4.0 in .\\llamaindex\\lib\\site-packages (from aiohttp<4.0.0,>=3.8.6->llama_index==0.9.31) (4.0.3)\n",
            "Requirement already satisfied: aiosignal>=1.1.2 in .\\llamaindex\\lib\\site-packages (from aiohttp<4.0.0,>=3.8.6->llama_index==0.9.31) (1.3.1)\n",
            "Requirement already satisfied: frozenlist>=1.1.1 in .\\llamaindex\\lib\\site-packages (from aiohttp<4.0.0,>=3.8.6->llama_index==0.9.31) (1.4.1)\n",
            "Requirement already satisfied: soupsieve>1.2 in .\\llamaindex\\lib\\site-packages (from beautifulsoup4<5.0.0,>=4.12.2->llama_index==0.9.31) (2.5)\n",
            "Requirement already satisfied: wrapt<2,>=1.10 in .\\llamaindex\\lib\\site-packages (from deprecated>=1.2.9.3->llama_index==0.9.31) (1.16.0)\n",
            "Requirement already satisfied: click in .\\llamaindex\\lib\\site-packages (from nltk<4.0.0,>=3.8.1->llama_index==0.9.31) (8.1.7)\n",
            "Requirement already satisfied: regex>=2021.8.3 in .\\llamaindex\\lib\\site-packages (from nltk<4.0.0,>=3.8.1->llama_index==0.9.31) (2023.12.25)\n",
            "Requirement already satisfied: tqdm in .\\llamaindex\\lib\\site-packages (from nltk<4.0.0,>=3.8.1->llama_index==0.9.31) (4.66.1)\n",
            "Requirement already satisfied: joblib in .\\llamaindex\\lib\\site-packages (from nltk<4.0.0,>=3.8.1->llama_index==0.9.31) (1.3.2)\n",
            "Requirement already satisfied: sniffio in .\\llamaindex\\lib\\site-packages (from openai>=1.1.0->llama_index==0.9.31) (1.3.0)\n",
            "Requirement already satisfied: anyio<5,>=3.5.0 in .\\llamaindex\\lib\\site-packages (from openai>=1.1.0->llama_index==0.9.31) (4.2.0)\n",
            "Requirement already satisfied: distro<2,>=1.7.0 in .\\llamaindex\\lib\\site-packages (from openai>=1.1.0->llama_index==0.9.31) (1.9.0)\n",
            "Requirement already satisfied: pydantic<3,>=1.9.0 in .\\llamaindex\\lib\\site-packages (from openai>=1.1.0->llama_index==0.9.31) (2.5.3)\n",
            "Requirement already satisfied: idna in .\\llamaindex\\lib\\site-packages (from httpx->llama_index==0.9.31) (3.6)\n",
            "Requirement already satisfied: certifi in .\\llamaindex\\lib\\site-packages (from httpx->llama_index==0.9.31) (2023.11.17)\n",
            "Requirement already satisfied: httpcore==1.* in .\\llamaindex\\lib\\site-packages (from httpx->llama_index==0.9.31) (1.0.2)\n",
            "Requirement already satisfied: h11<0.15,>=0.13 in .\\llamaindex\\lib\\site-packages (from httpcore==1.*->httpx->llama_index==0.9.31) (0.14.0)\n",
            "Requirement already satisfied: charset-normalizer<4,>=2 in .\\llamaindex\\lib\\site-packages (from requests>=2.31.0->llama_index==0.9.31) (3.3.2)\n",
            "Requirement already satisfied: urllib3<3,>=1.21.1 in .\\llamaindex\\lib\\site-packages (from requests>=2.31.0->llama_index==0.9.31) (1.26.18)\n",
            "Requirement already satisfied: greenlet!=0.4.17 in .\\llamaindex\\lib\\site-packages (from SQLAlchemy[asyncio]>=1.4.49->llama_index==0.9.31) (3.0.3)\n",
            "Requirement already satisfied: mypy-extensions>=0.3.0 in .\\llamaindex\\lib\\site-packages (from typing-inspect>=0.8.0->llama_index==0.9.31) (1.0.0)\n",
            "Requirement already satisfied: marshmallow<4.0.0,>=3.18.0 in .\\llamaindex\\lib\\site-packages (from dataclasses-json->llama_index==0.9.31) (3.20.2)\n",
            "Requirement already satisfied: python-dateutil>=2.8.2 in .\\llamaindex\\lib\\site-packages (from pandas->llama_index==0.9.31) (2.8.2)\n",
            "Requirement already satisfied: tzdata>=2022.1 in .\\llamaindex\\lib\\site-packages (from pandas->llama_index==0.9.31) (2023.4)\n",
            "Requirement already satisfied: pytz>=2020.1 in .\\llamaindex\\lib\\site-packages (from pandas->llama_index==0.9.31) (2023.3.post1)\n",
            "Requirement already satisfied: exceptiongroup>=1.0.2 in .\\llamaindex\\lib\\site-packages (from anyio<5,>=3.5.0->openai>=1.1.0->llama_index==0.9.31) (1.2.0)\n",
            "Requirement already satisfied: packaging>=17.0 in .\\llamaindex\\lib\\site-packages (from marshmallow<4.0.0,>=3.18.0->dataclasses-json->llama_index==0.9.31) (23.2)\n",
            "Requirement already satisfied: pydantic-core==2.14.6 in .\\llamaindex\\lib\\site-packages (from pydantic<3,>=1.9.0->openai>=1.1.0->llama_index==0.9.31) (2.14.6)\n",
            "Requirement already satisfied: annotated-types>=0.4.0 in .\\llamaindex\\lib\\site-packages (from pydantic<3,>=1.9.0->openai>=1.1.0->llama_index==0.9.31) (0.6.0)\n",
            "Requirement already satisfied: six>=1.5 in .\\llamaindex\\lib\\site-packages (from python-dateutil>=2.8.2->pandas->llama_index==0.9.31) (1.16.0)\n",
            "Requirement already satisfied: colorama in .\\llamaindex\\lib\\site-packages (from tqdm->nltk<4.0.0,>=3.8.1->llama_index==0.9.31) (0.4.6)\n"
          ]
        },
        {
          "name": "stderr",
          "output_type": "stream",
          "text": [
            "WARNING: You are using pip version 22.0.4; however, version 24.0 is available.\n",
            "You should consider upgrading via the 'C:\\llamaindex\\llamaindex-samples\\llamaindex\\Scripts\\python.exe -m pip install --upgrade pip' command.\n"
          ]
        }
      ],
      "source": [
        "!pip install llama_index==0.9.31 pypdf python-dotenv"
      ]
    },
    {
      "cell_type": "code",
      "execution_count": 3,
      "metadata": {},
      "outputs": [],
      "source": [
        "\n",
        "import nest_asyncio\n",
        "\n",
        "nest_asyncio.apply()"
      ]
    },
    {
      "cell_type": "code",
      "execution_count": 4,
      "metadata": {
        "id": "uQcsPrXS9-qn"
      },
      "outputs": [],
      "source": [
        "import logging\n",
        "import sys\n",
        "import os\n",
        "\n",
        "# logging.basicConfig(stream=sys.stdout, level=logging.INFO)\n",
        "# logging.getLogger().handlers = []\n",
        "# logging.getLogger().addHandler(logging.StreamHandler(stream=sys.stdout))\n",
        "\n",
        "import openai\n",
        "from dotenv import load_dotenv\n",
        "load_dotenv(\".env\", override=True)\n",
        "openai.api_key = os.environ[\"OPENAI_API_KEY\"]"
      ]
    },
    {
      "cell_type": "code",
      "execution_count": 5,
      "metadata": {
        "id": "Mu7ZI3_O-CDC"
      },
      "outputs": [],
      "source": [
        "from llama_index import SimpleDirectoryReader,  VectorStoreIndex\n",
        "from llama_index.response.pprint_utils import pprint_response\n",
        "from llama_index.tools import QueryEngineTool, ToolMetadata\n",
        "from llama_index.query_engine import SubQuestionQueryEngine"
      ]
    },
    {
      "cell_type": "markdown",
      "metadata": {
        "id": "dj4J1NYO__6L"
      },
      "source": [
        "##### Load uber and lyft documents"
      ]
    },
    {
      "cell_type": "code",
      "execution_count": 6,
      "metadata": {
        "id": "-gqVPUhF-MsC"
      },
      "outputs": [],
      "source": [
        "lyft_docs = SimpleDirectoryReader(input_files=[\"data_pdfs/lyft_2021.pdf\"]).load_data()\n",
        "uber_docs = SimpleDirectoryReader(input_files=[\"data_pdfs/uber_2021.pdf\"]).load_data()"
      ]
    },
    {
      "cell_type": "code",
      "execution_count": 7,
      "metadata": {
        "colab": {
          "base_uri": "https://localhost:8080/"
        },
        "id": "6WRclpxW-QOX",
        "outputId": "dcbc71f8-8f6d-4f57-c56e-82efdca5ad15"
      },
      "outputs": [
        {
          "name": "stdout",
          "output_type": "stream",
          "text": [
            "Loaded lyft 10-K with 238 pages\n",
            "Loaded Uber 10-K with 307 pages\n"
          ]
        }
      ],
      "source": [
        "print(f'Loaded lyft 10-K with {len(lyft_docs)} pages')\n",
        "print(f'Loaded Uber 10-K with {len(uber_docs)} pages')"
      ]
    },
    {
      "cell_type": "markdown",
      "metadata": {
        "id": "c9l5XFXOACgA"
      },
      "source": [
        "##### Build indices"
      ]
    },
    {
      "cell_type": "code",
      "execution_count": 8,
      "metadata": {
        "colab": {
          "base_uri": "https://localhost:8080/"
        },
        "id": "xBzg6G9H-QuH",
        "outputId": "0a0032e1-4682-4eaf-d619-d3b9518c4248"
      },
      "outputs": [],
      "source": [
        "lyft_index = VectorStoreIndex.from_documents(lyft_docs)\n",
        "uber_index = VectorStoreIndex.from_documents(uber_docs)"
      ]
    },
    {
      "cell_type": "markdown",
      "metadata": {
        "id": "OG9N9PT-AG_8"
      },
      "source": [
        "##### Basic QA"
      ]
    },
    {
      "cell_type": "code",
      "execution_count": 9,
      "metadata": {
        "id": "tMTcHwSs-Uf1"
      },
      "outputs": [],
      "source": [
        "lyft_engine = lyft_index.as_query_engine(similarity_top_k=3)\n"
      ]
    },
    {
      "cell_type": "code",
      "execution_count": 10,
      "metadata": {
        "id": "Og6bs-Nm-U61"
      },
      "outputs": [],
      "source": [
        "uber_engine = uber_index.as_query_engine(similarity_top_k=3)\n"
      ]
    },
    {
      "cell_type": "code",
      "execution_count": 11,
      "metadata": {
        "id": "ImwBL7W2-XyR"
      },
      "outputs": [],
      "source": [
        "response = lyft_engine.query('What is the revenue of Lyft in 2021? Answer in millions with page reference')\n"
      ]
    },
    {
      "cell_type": "code",
      "execution_count": 12,
      "metadata": {
        "colab": {
          "base_uri": "https://localhost:8080/"
        },
        "id": "v-fLA2rG_lM-",
        "outputId": "13e2917a-c84a-40c6-b791-5671a8c00986"
      },
      "outputs": [
        {
          "name": "stdout",
          "output_type": "stream",
          "text": [
            "Final Response: The revenue of Lyft in 2021 was $3.21 billion. (Page\n",
            "reference: 63)\n"
          ]
        }
      ],
      "source": [
        "pprint_response(response)"
      ]
    },
    {
      "cell_type": "code",
      "execution_count": 13,
      "metadata": {
        "id": "WUW9z_MN-YUt"
      },
      "outputs": [],
      "source": [
        "response = uber_engine.query('What is the revenue of Uber in 2021? Answer in millions, with page reference')\n"
      ]
    },
    {
      "cell_type": "code",
      "execution_count": 14,
      "metadata": {
        "colab": {
          "base_uri": "https://localhost:8080/"
        },
        "id": "LSyKvMZd_mkw",
        "outputId": "600f3ec1-6982-4a2d-81d5-a5d7de11b69d"
      },
      "outputs": [
        {
          "name": "stdout",
          "output_type": "stream",
          "text": [
            "Final Response: The revenue of Uber in 2021 was $17,455 million. (Page\n",
            "reference: 57)\n"
          ]
        }
      ],
      "source": [
        "pprint_response(response)"
      ]
    },
    {
      "cell_type": "markdown",
      "metadata": {
        "id": "AN6j0tLYAJya"
      },
      "source": [
        "##### For comparing between uber and lyft"
      ]
    },
    {
      "cell_type": "code",
      "execution_count": 15,
      "metadata": {
        "id": "7Q6NHot0-dGY"
      },
      "outputs": [],
      "source": [
        "query_engine_tools = [\n",
        "    QueryEngineTool(\n",
        "        query_engine=lyft_engine,\n",
        "        metadata=ToolMetadata(name='lyft_10k', description='Provides information about Lyft financials for year 2021')\n",
        "    ),\n",
        "    QueryEngineTool(\n",
        "        query_engine=uber_engine,\n",
        "        metadata=ToolMetadata(name='uber_10k', description='Provides information about Uber financials for year 2021')\n",
        "    ),\n",
        "]\n",
        "\n",
        "s_engine = SubQuestionQueryEngine.from_defaults(query_engine_tools=query_engine_tools)"
      ]
    },
    {
      "cell_type": "code",
      "execution_count": 16,
      "metadata": {
        "colab": {
          "base_uri": "https://localhost:8080/"
        },
        "id": "TBJbICbI-f9e",
        "outputId": "e1ee6101-a1fc-47a9-f7c9-c47d1a206786"
      },
      "outputs": [
        {
          "name": "stdout",
          "output_type": "stream",
          "text": [
            "Generated 4 sub questions.\n",
            "\u001b[1;3;38;2;237;90;200m[lyft_10k] Q: What were the customer segments that grew the fastest for Lyft in 2021?\n",
            "\u001b[0m\u001b[1;3;38;2;90;149;237m[lyft_10k] Q: What were the geographies that grew the fastest for Lyft in 2021?\n",
            "\u001b[0m\u001b[1;3;38;2;11;159;203m[uber_10k] Q: What were the customer segments that grew the fastest for Uber in 2021?\n",
            "\u001b[0m\u001b[1;3;38;2;155;135;227m[uber_10k] Q: What were the geographies that grew the fastest for Uber in 2021?\n",
            "\u001b[0m\u001b[1;3;38;2;155;135;227m[uber_10k] A: Chicago, Miami, New York City in the United States, Sao Paulo in Brazil, and London in the United Kingdom.\n",
            "\u001b[0m\u001b[1;3;38;2;237;90;200m[lyft_10k] A: Riders who use Lyft to commute to and from work, explore their cities, spend more time at local businesses, and stay out longer knowing they can get a reliable ride home.\n",
            "\u001b[0m\u001b[1;3;38;2;90;149;237m[lyft_10k] A: The geographies that grew the fastest for Lyft in 2021 were not explicitly mentioned in the provided context information.\n",
            "\u001b[0m\u001b[1;3;38;2;11;159;203m[uber_10k] A: The customer segments that grew the fastest for Uber in 2021 were the membership programs, specifically Uber One, Uber Pass, Eats Pass, and Rides Pass.\n",
            "\u001b[0m"
          ]
        }
      ],
      "source": [
        "response = s_engine.query('Compare and contrast the customer segments and geographies that grew the fastest')"
      ]
    },
    {
      "cell_type": "code",
      "execution_count": 17,
      "metadata": {
        "colab": {
          "base_uri": "https://localhost:8080/"
        },
        "id": "Qn50QRnT_oWw",
        "outputId": "894c1986-51a3-4b37-943b-636ec4851ff7"
      },
      "outputs": [
        {
          "name": "stdout",
          "output_type": "stream",
          "text": [
            "The customer segments that grew the fastest for Lyft in 2021 were riders who use the service for commuting, exploring their cities, supporting local businesses, and ensuring a reliable ride home. On the other hand, the customer segments that experienced the most growth for Uber in 2021 were related to membership programs such as Uber One, Uber Pass, Eats Pass, and Rides Pass.\n",
            "\n",
            "Regarding the geographies that saw the fastest growth, Lyft did not specify any particular locations in the provided context information. In contrast, Uber experienced significant growth in cities like Chicago, Miami, and New York City in the United States, Sao Paulo in Brazil, and London in the United Kingdom.\n"
          ]
        }
      ],
      "source": [
        "print(response)"
      ]
    },
    {
      "cell_type": "code",
      "execution_count": 18,
      "metadata": {
        "colab": {
          "base_uri": "https://localhost:8080/"
        },
        "id": "liOSDYiK-iy6",
        "outputId": "f3797b93-5388-4be9-dd24-87a0d9d57087"
      },
      "outputs": [
        {
          "name": "stdout",
          "output_type": "stream",
          "text": [
            "Generated 4 sub questions.\n",
            "\u001b[1;3;38;2;237;90;200m[uber_10k] Q: What was the revenue of Uber in 2020?\n",
            "\u001b[0m\u001b[1;3;38;2;90;149;237m[uber_10k] Q: What was the revenue of Uber in 2021?\n",
            "\u001b[0m\u001b[1;3;38;2;11;159;203m[lyft_10k] Q: What was the revenue of Lyft in 2020?\n",
            "\u001b[0m\u001b[1;3;38;2;155;135;227m[lyft_10k] Q: What was the revenue of Lyft in 2021?\n",
            "\u001b[0m\u001b[1;3;38;2;90;149;237m[uber_10k] A: $17,455\n",
            "\u001b[0m\u001b[1;3;38;2;155;135;227m[lyft_10k] A: The revenue of Lyft in 2021 was $3,208,323.\n",
            "\u001b[0m\u001b[1;3;38;2;237;90;200m[uber_10k] A: $11,139 million\n",
            "\u001b[0m\u001b[1;3;38;2;11;159;203m[lyft_10k] A: Lyft's revenue in 2020 was $2,364,681.\n",
            "\u001b[0m"
          ]
        }
      ],
      "source": [
        "response = s_engine.query('Compare revenue growth of Uber and Lyft from 2020 to 2021')"
      ]
    },
    {
      "cell_type": "code",
      "execution_count": 19,
      "metadata": {
        "colab": {
          "base_uri": "https://localhost:8080/"
        },
        "id": "trxesUfp_kCf",
        "outputId": "ab3e531f-8ba0-48ea-9534-8c206b38c049"
      },
      "outputs": [
        {
          "name": "stdout",
          "output_type": "stream",
          "text": [
            "Uber's revenue grew by $6,316 million from 2020 to 2021, while Lyft's revenue increased by $843,642 from 2020 to 2021.\n"
          ]
        }
      ],
      "source": [
        "print(response)"
      ]
    }
  ],
  "metadata": {
    "colab": {
      "provenance": []
    },
    "kernelspec": {
      "display_name": "Python 3",
      "name": "python3"
    },
    "language_info": {
      "codemirror_mode": {
        "name": "ipython",
        "version": 3
      },
      "file_extension": ".py",
      "mimetype": "text/x-python",
      "name": "python",
      "nbconvert_exporter": "python",
      "pygments_lexer": "ipython3",
      "version": "3.9.13"
    }
  },
  "nbformat": 4,
  "nbformat_minor": 0
}
